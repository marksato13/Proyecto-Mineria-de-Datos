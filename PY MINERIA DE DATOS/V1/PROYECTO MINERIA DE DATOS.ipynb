{
 "cells": [
  {
   "cell_type": "markdown",
   "id": "d254e3af-5f3b-47b7-8f72-797d122e50c3",
   "metadata": {},
   "source": [
    "#                                                          Unidad 1"
   ]
  },
  {
   "cell_type": "markdown",
   "id": "3734c653-c8ef-4f11-b3ed-aae134da84aa",
   "metadata": {},
   "source": [
    "# Proyecto: Minería de Datos para la Automatización del Monitoreo de Infraestructura TI: Un Enfoque Predictivo con Zabbix "
   ]
  },
  {
   "cell_type": "markdown",
   "id": "032c274a-5fb6-4817-bf3b-362cde1f110c",
   "metadata": {},
   "source": [
    "## Metodología: CRISP-DM \n",
    "En este proyecto vamos aplicar la metodología CRISP-DM (Cross Industry Standard Process for Data Mining), la cual establece un proceso estructurado para el desarrollo de proyectos de minería de datos. El flujo que se seguirá en esta primera etapa comprende las fases:\n",
    "\n",
    " → Business Understanding → Data Understanding → Data Preparation  → Modelado (Modeling)\n",
    "\n",
    "##  **Integrantes:**   \n",
    "\n",
    "- Ruben Mark Salazar Tocas\n",
    "- Elias Uziel Sauñe Fernadez\n",
    "  \n",
    "## Fecha del informe: [30/08/2025]"
   ]
  },
  {
   "cell_type": "markdown",
   "id": "2ce53527-45bb-4bbc-8bb4-c25cf0cfc216",
   "metadata": {},
   "source": [
    "## Fase 1 – Business Understanding (Comprensión del Negocio)"
   ]
  },
  {
   "cell_type": "markdown",
   "id": "41de270e-935f-45a0-806f-332db8ec10b1",
   "metadata": {},
   "source": [
    "### 1.1. Problema de negocio"
   ]
  },
  {
   "cell_type": "markdown",
   "id": "e1be8a23-2b95-4480-a513-e9ab7d93c201",
   "metadata": {},
   "source": [
    "La Universidad Peruana Unión (UPeU), una institución educativa de gran envergadura con tres sedes principales en Lima, Juliaca y Tarapoto, la infraestructura tecnológica juega un rol esencial para garantizar la continuidad de sus servicios académicos y administrativos. Nuestra universidad depende de servidores, plataformas virtuales, sistemas de gestión académica, bibliotecas digitales y entornos que son críticos para el correcto desarrollo de sus actividades.\n",
    "\n",
    "Uno de los principales riesgos tecnológicos que enfrentan organizaciones de este tipo es la saturación de recursos de hardware, especialmente en el consumo de CPU y memoria RAM de los servidores. Estos picos de uso pueden deberse a:\n",
    "\n",
    "- Altas cargas académicas en temporadas de matrícula o evaluaciones.\n",
    "\n",
    "- Procesos administrativos intensivos como la generación de pagos.\n",
    "\n",
    "Cuando el consumo de recursos llega a niveles críticos sin previo aviso, los sistemas experimentan lentitud, interrupciones o caídas inesperadas. Esto no solo podría afectar a estudiantes y docentes, sino también la imagen institucional de la UPeU, ya que limita su capacidad de garantizar continuidad de servicio tecnológico, lo cual es indispensable en un entorno educativo competitivo y digitalizado.\n",
    "\n",
    "Actualmente, herramientas como Zabbix ya permiten a los equipos de TI monitorear en tiempo real la infraestructura, generando alertas cuando el consumo excede ciertos umbrales. Sin embargo, este enfoque puede ser reactivo porqué la alerta aparece cuando el problema ya está ocurriendo, y muchas no podemos prevenir la caída."
   ]
  },
  {
   "cell_type": "markdown",
   "id": "c685a6a4-411d-49e3-9bac-920fce870080",
   "metadata": {},
   "source": [
    "### 1.2. Objetivo general"
   ]
  },
  {
   "cell_type": "markdown",
   "id": "d05e97cd-cab1-4dd6-8b53-9f4c83789275",
   "metadata": {},
   "source": [
    "El objetivo que tenemos como grupo es construir un modelo predictivo basado en LSTM integrado con Zabbix, capaz de anticipar el uso de CPU y memoria RAM, reduciendo el riesgo de saturación y mejorando la administración preventiva de recursos tecnológicos."
   ]
  },
  {
   "cell_type": "markdown",
   "id": "d75f2366-a435-4b33-b020-ef82d494bd59",
   "metadata": {},
   "source": [
    "### 1.3. Criterios de éxito"
   ]
  },
  {
   "cell_type": "markdown",
   "id": "4f43ec3e-9e4d-470b-a4ad-6f2cadae38fe",
   "metadata": {},
   "source": [
    "\n",
    "Técnico:\n",
    "- Alcanzar métricas de predicción satisfactorias (RMSE bajo, MAPE ≤ 10%) en CPU y RAM.\n",
    "\n",
    "- Demostrar que el modelo LSTM supera a enfoques lineales como ARIMA en la gestión de ruido y picos atípicos.\n",
    "\n",
    "De negocio:\n",
    "\n",
    "- Que Zabbix reciba predicciones con al menos 15–30 minutos de anticipación antes de que se produzca una saturación real.\n",
    "\n",
    "- Disminuir el número de falsos positivos en alertas respecto a métodos tradicionales.\n",
    "\n",
    "Social/Operativo:\n",
    "\n",
    "- Contribuir a la continuidad del servicio TI, reduciendo caídas imprevistas y tiempos de inactividad.\n",
    "\n",
    "- Optimizar el uso de recursos humanos y económicos mediante la prevención en lugar de la reacción."
   ]
  }
 ],
 "metadata": {
  "kernelspec": {
   "display_name": "Python 3 (ipykernel)",
   "language": "python",
   "name": "python3"
  },
  "language_info": {
   "codemirror_mode": {
    "name": "ipython",
    "version": 3
   },
   "file_extension": ".py",
   "mimetype": "text/x-python",
   "name": "python",
   "nbconvert_exporter": "python",
   "pygments_lexer": "ipython3",
   "version": "3.12.7"
  }
 },
 "nbformat": 4,
 "nbformat_minor": 5
}
