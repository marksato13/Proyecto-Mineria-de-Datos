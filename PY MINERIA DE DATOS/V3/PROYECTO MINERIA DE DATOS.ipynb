{
 "cells": [
  {
   "cell_type": "markdown",
   "id": "d254e3af-5f3b-47b7-8f72-797d122e50c3",
   "metadata": {},
   "source": [
    "#                                                          Unidad 1"
   ]
  },
  {
   "cell_type": "markdown",
   "id": "3734c653-c8ef-4f11-b3ed-aae134da84aa",
   "metadata": {},
   "source": [
    "# Proyecto: Minería de Datos para la Automatización del Monitoreo de Infraestructura TI: Un Enfoque Predictivo con Zabbix "
   ]
  },
  {
   "cell_type": "markdown",
   "id": "032c274a-5fb6-4817-bf3b-362cde1f110c",
   "metadata": {},
   "source": [
    "## Metodología: CRISP-DM \n",
    "En este proyecto vamos aplicar la metodología CRISP-DM (Cross Industry Standard Process for Data Mining), la cual establece un proceso estructurado para el desarrollo de proyectos de minería de datos. El flujo que se seguirá en esta primera etapa comprende las fases:\n",
    "\n",
    " → Business Understanding → Data Understanding → Data Preparation  → Modelado (Modeling)\n",
    "\n",
    "##  **Integrantes:**   \n",
    "\n",
    "- Ruben Mark Salazar Tocas\n",
    "- Elias Uziel Sauñe Fernadez\n",
    "  \n",
    "## Fecha del informe: [30/08/2025]"
   ]
  },
  {
   "cell_type": "markdown",
   "id": "2ce53527-45bb-4bbc-8bb4-c25cf0cfc216",
   "metadata": {},
   "source": [
    "## Fase 1 – Business Understanding (Comprensión del Negocio)"
   ]
  },
  {
   "cell_type": "markdown",
   "id": "41de270e-935f-45a0-806f-332db8ec10b1",
   "metadata": {},
   "source": [
    "### 1.1. Problema de negocio"
   ]
  },
  {
   "cell_type": "markdown",
   "id": "7532d7ad-395a-4f41-84da-b97cbb602072",
   "metadata": {},
   "source": [
    "La Universidad Peruana Unión (UPeU), una institución educativa de gran envergadura con tres sedes principales en Lima, Juliaca y Tarapoto, la infraestructura tecnológica juega un rol esencial para garantizar la continuidad de sus servicios académicos y administrativos. Nuestra universidad depende de servidores, plataformas virtuales, sistemas de gestión académica, bibliotecas digitales y entornos que son críticos para el correcto desarrollo de sus actividades.\n",
    "\n",
    "Uno de los principales riesgos tecnológicos que enfrentan organizaciones de este tipo es la saturación de recursos de hardware, especialmente en el consumo de CPU y memoria RAM de los servidores. Estos picos de uso pueden deberse a:\n",
    "\n",
    "- Altas cargas académicas en temporadas de matrícula o evaluaciones.\n",
    "\n",
    "- Procesos administrativos intensivos como la generación de pagos.\n",
    "\n",
    "Cuando el consumo de recursos llega a niveles críticos sin previo aviso, los sistemas experimentan lentitud, interrupciones o caídas inesperadas. Esto no solo podría afectar a estudiantes y docentes, sino también la imagen institucional de la UPeU, ya que limita su capacidad de garantizar continuidad de servicio tecnológico, lo cual es indispensable en un entorno educativo competitivo y digitalizado.\n",
    "\n",
    "Actualmente, herramientas como Zabbix ya permiten a los equipos de TI monitorear en tiempo real la infraestructura, generando alertas cuando el consumo excede ciertos umbrales. Sin embargo, este enfoque puede ser reactivo porqué la alerta aparece cuando el problema ya está ocurriendo, y muchas no podemos prevenir la caída."
   ]
  },
  {
   "cell_type": "markdown",
   "id": "c685a6a4-411d-49e3-9bac-920fce870080",
   "metadata": {},
   "source": [
    "### 1.2. Objetivo general"
   ]
  },
  {
   "cell_type": "markdown",
   "id": "d05e97cd-cab1-4dd6-8b53-9f4c83789275",
   "metadata": {},
   "source": [
    "El objetivo que tenemos como grupo es construir un modelo predictivo basado en LSTM integrado con Zabbix, capaz de anticipar el uso de CPU y memoria RAM, reduciendo el riesgo de saturación y mejorando la administración preventiva de recursos tecnológicos."
   ]
  },
  {
   "cell_type": "markdown",
   "id": "b539de4e-05ea-4aa5-acce-15ac97ac1124",
   "metadata": {},
   "source": [
    "### 1.3. Criterios de éxito\n"
   ]
  },
  {
   "cell_type": "markdown",
   "id": "0b24cdd0-a4f0-4d3a-ad6c-db2b0aff775a",
   "metadata": {},
   "source": [
    "\n",
    "Técnico:\n",
    "- Alcanzar métricas de predicción satisfactorias (RMSE bajo, MAPE ≤ 10%) en CPU y RAM.\n",
    "\n",
    "- Demostrar que el modelo LSTM supera a enfoques lineales como ARIMA en la gestión de ruido y picos atípicos.\n",
    "\n",
    "De negocio:\n",
    "\n",
    "- Que Zabbix reciba predicciones con al menos 15–30 minutos de anticipación antes de que se produzca una saturación real.\n",
    "\n",
    "- Disminuir el número de falsos positivos en alertas respecto a métodos tradicionales.\n",
    "\n",
    "Social/Operativo:\n",
    "\n",
    "- Contribuir a la continuidad del servicio TI, reduciendo caídas imprevistas y tiempos de inactividad.\n",
    "\n",
    "- Optimizar el uso de recursos humanos y económicos mediante la prevención en lugar de la reacción."
   ]
  },
  {
   "cell_type": "markdown",
   "id": "4d1b2f94-3de4-4de6-a849-fe0edef574f2",
   "metadata": {},
   "source": [
    "## Fase 2. Data Understanding (Comprensión de los datos)"
   ]
  },
  {
   "cell_type": "markdown",
   "id": "4954cbcf-bd6f-4f91-b4d2-a1fb7e2ff89c",
   "metadata": {},
   "source": [
    "### 📥 2. Data collection (Recopilación de datos )"
   ]
  },
  {
   "cell_type": "code",
   "execution_count": 1,
   "id": "ff1f7fd4-cc6a-48d1-ac59-ed911ecc493f",
   "metadata": {},
   "outputs": [],
   "source": [
    "import pandas as pd\n",
    "import numpy as np\n",
    "\n",
    "# ==============================\n",
    "# Paso 1: Cargar el dataset\n",
    "# ==============================\n",
    "df = pd.read_excel(\"../V2/DATA.xlsx\")"
   ]
  },
  {
   "cell_type": "code",
   "execution_count": 2,
   "id": "6f05f347-77f6-40e2-951b-1f6e96c6e7bc",
   "metadata": {},
   "outputs": [
    {
     "name": "stdout",
     "output_type": "stream",
     "text": [
      "=== Información general del DataFrame ===\n",
      "<class 'pandas.core.frame.DataFrame'>\n",
      "RangeIndex: 4320 entries, 0 to 4319\n",
      "Data columns (total 2 columns):\n",
      " #   Column       Non-Null Count  Dtype  \n",
      "---  ------       --------------  -----  \n",
      " 0   cpu_usage    4320 non-null   float64\n",
      " 1   used_memory  4320 non-null   int64  \n",
      "dtypes: float64(1), int64(1)\n",
      "memory usage: 67.6 KB\n",
      "None\n",
      "\n",
      "=== Nombres de columnas ===\n",
      "Index(['cpu_usage', 'used_memory'], dtype='object')\n",
      "\n",
      "=== Forma (filas, columnas) ===\n",
      "(4320, 2)\n",
      "\n",
      "=== Primeras 10 filas ===\n",
      "   cpu_usage  used_memory\n",
      "0   0.012267    275972096\n",
      "1   0.016353    275972096\n",
      "2   0.020475    276099072\n",
      "3   0.016341    275484672\n",
      "4   0.024561    275484672\n",
      "5   0.028638    276373504\n",
      "6   0.028652    276234240\n",
      "7   0.028602    275582976\n",
      "8   0.024470    275582976\n",
      "9   0.032654    275582976\n"
     ]
    }
   ],
   "source": [
    "# ==============================\n",
    "# Paso 2: Resumen general\n",
    "# ==============================\n",
    "print(\"=== Información general del DataFrame ===\")\n",
    "print(df.info())  # estructura, tipos de datos y nulos\n",
    "\n",
    "print(\"\\n=== Nombres de columnas ===\")\n",
    "print(df.columns)\n",
    "\n",
    "print(\"\\n=== Forma (filas, columnas) ===\")\n",
    "print(df.shape)\n",
    "\n",
    "print(\"\\n=== Primeras 10 filas ===\")\n",
    "print(df.head(10))"
   ]
  },
  {
   "cell_type": "markdown",
   "id": "9bf27ef4-af22-4196-92b9-f9e0faf5dbdb",
   "metadata": {},
   "source": [
    "### 📊 3. Descriptive analysis (Análisis descriptivo)"
   ]
  },
  {
   "cell_type": "markdown",
   "id": "0eb96d9c-a58b-4945-9507-3c24cbd2ddc3",
   "metadata": {},
   "source": [
    "#### 3.1 Análisis descriptivo"
   ]
  },
  {
   "cell_type": "code",
   "execution_count": 3,
   "id": "a8d41f82-b364-44d6-a89b-8db0378ba210",
   "metadata": {},
   "outputs": [
    {
     "name": "stdout",
     "output_type": "stream",
     "text": [
      "=== Resumen estadístico de todas las variables ===\n"
     ]
    },
    {
     "data": {
      "text/html": [
       "<div>\n",
       "<style scoped>\n",
       "    .dataframe tbody tr th:only-of-type {\n",
       "        vertical-align: middle;\n",
       "    }\n",
       "\n",
       "    .dataframe tbody tr th {\n",
       "        vertical-align: top;\n",
       "    }\n",
       "\n",
       "    .dataframe thead th {\n",
       "        text-align: right;\n",
       "    }\n",
       "</style>\n",
       "<table border=\"1\" class=\"dataframe\">\n",
       "  <thead>\n",
       "    <tr style=\"text-align: right;\">\n",
       "      <th></th>\n",
       "      <th>count</th>\n",
       "      <th>mean</th>\n",
       "      <th>std</th>\n",
       "      <th>min</th>\n",
       "      <th>25%</th>\n",
       "      <th>50%</th>\n",
       "      <th>75%</th>\n",
       "      <th>max</th>\n",
       "    </tr>\n",
       "  </thead>\n",
       "  <tbody>\n",
       "    <tr>\n",
       "      <th>cpu_usage</th>\n",
       "      <td>4320.0</td>\n",
       "      <td>3.535447e+01</td>\n",
       "      <td>2.620570e+01</td>\n",
       "      <td>4.054000e-03</td>\n",
       "      <td>1.232400e-02</td>\n",
       "      <td>5.216912e+01</td>\n",
       "      <td>5.554078e+01</td>\n",
       "      <td>7.511262e+01</td>\n",
       "    </tr>\n",
       "    <tr>\n",
       "      <th>used_memory</th>\n",
       "      <td>4320.0</td>\n",
       "      <td>9.495881e+08</td>\n",
       "      <td>4.830037e+08</td>\n",
       "      <td>2.750956e+08</td>\n",
       "      <td>6.754540e+08</td>\n",
       "      <td>8.958239e+08</td>\n",
       "      <td>1.213200e+09</td>\n",
       "      <td>3.626500e+09</td>\n",
       "    </tr>\n",
       "  </tbody>\n",
       "</table>\n",
       "</div>"
      ],
      "text/plain": [
       "              count          mean           std           min           25%  \\\n",
       "cpu_usage    4320.0  3.535447e+01  2.620570e+01  4.054000e-03  1.232400e-02   \n",
       "used_memory  4320.0  9.495881e+08  4.830037e+08  2.750956e+08  6.754540e+08   \n",
       "\n",
       "                      50%           75%           max  \n",
       "cpu_usage    5.216912e+01  5.554078e+01  7.511262e+01  \n",
       "used_memory  8.958239e+08  1.213200e+09  3.626500e+09  "
      ]
     },
     "metadata": {},
     "output_type": "display_data"
    }
   ],
   "source": [
    "# ==============================\n",
    "# Paso 3: Resumen estadístico\n",
    "# ==============================\n",
    "\n",
    "print(\"=== Resumen estadístico de todas las variables ===\")\n",
    "display(df.describe(include=\"all\").T)  # incluye variables numéricas y categóricas\n"
   ]
  },
  {
   "cell_type": "code",
   "execution_count": 4,
   "id": "e5b0663c-080e-463e-bb0d-4fa253bc4ad9",
   "metadata": {},
   "outputs": [
    {
     "name": "stdout",
     "output_type": "stream",
     "text": [
      "Hay 2 columnas numéricas y 0 columnas categóricas en el dataset.\n"
     ]
    }
   ],
   "source": [
    "# ==============================\n",
    "# Paso 4: Separación por tipo de variables\n",
    "# ==============================\n",
    "\n",
    "numeric_data = df.select_dtypes(include=[np.number])# Seleccionar variables numéricas\n",
    "\n",
    "categor_data = df.select_dtypes(exclude=[np.number])# Seleccionar variables categóricas \n",
    "\n",
    "print(f\"Hay {numeric_data.shape[1]} columnas numéricas y {categor_data.shape[1]} columnas categóricas en el dataset.\")\n"
   ]
  },
  {
   "cell_type": "code",
   "execution_count": 5,
   "id": "7e909f89-b530-4b1d-841a-ee3798451f8f",
   "metadata": {},
   "outputs": [
    {
     "data": {
      "text/html": [
       "<div>\n",
       "<style scoped>\n",
       "    .dataframe tbody tr th:only-of-type {\n",
       "        vertical-align: middle;\n",
       "    }\n",
       "\n",
       "    .dataframe tbody tr th {\n",
       "        vertical-align: top;\n",
       "    }\n",
       "\n",
       "    .dataframe thead th {\n",
       "        text-align: right;\n",
       "    }\n",
       "</style>\n",
       "<table border=\"1\" class=\"dataframe\">\n",
       "  <thead>\n",
       "    <tr style=\"text-align: right;\">\n",
       "      <th></th>\n",
       "      <th>count</th>\n",
       "      <th>mean</th>\n",
       "      <th>std</th>\n",
       "      <th>min</th>\n",
       "      <th>25%</th>\n",
       "      <th>50%</th>\n",
       "      <th>75%</th>\n",
       "      <th>max</th>\n",
       "    </tr>\n",
       "  </thead>\n",
       "  <tbody>\n",
       "    <tr>\n",
       "      <th>cpu_usage</th>\n",
       "      <td>4320.0</td>\n",
       "      <td>3.535447e+01</td>\n",
       "      <td>2.620570e+01</td>\n",
       "      <td>4.054000e-03</td>\n",
       "      <td>1.232400e-02</td>\n",
       "      <td>5.216912e+01</td>\n",
       "      <td>5.554078e+01</td>\n",
       "      <td>7.511262e+01</td>\n",
       "    </tr>\n",
       "    <tr>\n",
       "      <th>used_memory</th>\n",
       "      <td>4320.0</td>\n",
       "      <td>9.495881e+08</td>\n",
       "      <td>4.830037e+08</td>\n",
       "      <td>2.750956e+08</td>\n",
       "      <td>6.754540e+08</td>\n",
       "      <td>8.958239e+08</td>\n",
       "      <td>1.213200e+09</td>\n",
       "      <td>3.626500e+09</td>\n",
       "    </tr>\n",
       "  </tbody>\n",
       "</table>\n",
       "</div>"
      ],
      "text/plain": [
       "              count          mean           std           min           25%  \\\n",
       "cpu_usage    4320.0  3.535447e+01  2.620570e+01  4.054000e-03  1.232400e-02   \n",
       "used_memory  4320.0  9.495881e+08  4.830037e+08  2.750956e+08  6.754540e+08   \n",
       "\n",
       "                      50%           75%           max  \n",
       "cpu_usage    5.216912e+01  5.554078e+01  7.511262e+01  \n",
       "used_memory  8.958239e+08  1.213200e+09  3.626500e+09  "
      ]
     },
     "execution_count": 5,
     "metadata": {},
     "output_type": "execute_result"
    }
   ],
   "source": [
    "numeric_data.describe().T\n",
    "# Puedes ver la Distribución de variables numéricas (cantidad o freq, media, mediana, desviación estándar, mín, máx. etc.)."
   ]
  },
  {
   "cell_type": "code",
   "execution_count": 6,
   "id": "5bc5383a-357b-4562-96b4-fdb192796604",
   "metadata": {},
   "outputs": [],
   "source": [
    "# No hay variables categóricas en este dataset.\n",
    "\n",
    "# categor_data.describe(include=\"all\").T\n",
    "# Puedes ver valores únicos en categóricas (ej. State, Vehicle type, Fuel type), freq, etc."
   ]
  },
  {
   "cell_type": "code",
   "execution_count": 7,
   "id": "89ad39c5-32fe-4920-b2cd-e5119ea6d5b4",
   "metadata": {},
   "outputs": [],
   "source": [
    "# Conteo de valores únicos en categóricas\n",
    "# for col in ['Intervention type','Vehicle type','Fuel type','State']:\n",
    "#   print(f\"\\n{col}:\\n\", df[col].value_counts())\n",
    "\n",
    "# Conteo de la variable objetivo, \n",
    "# df[\"State\"].value_counts()"
   ]
  },
  {
   "cell_type": "markdown",
   "id": "5794efc1-ecb6-422b-a64c-150a46acf637",
   "metadata": {},
   "source": [
    "#### 3.2 Análisis descriptivo (gráficos)"
   ]
  },
  {
   "cell_type": "code",
   "execution_count": 8,
   "id": "ccd28169-8733-444d-a4b8-b374b3ce662f",
   "metadata": {},
   "outputs": [
    {
     "name": "stdout",
     "output_type": "stream",
     "text": [
      "\n",
      "estos gráficos tienen sentido porque muestran claramente los patrones normales de carga y las anomalías simuladas. Son útiles para justificar la necesidad de un modelo predictivo (como LSTM) que anticipe picos en CPU y RAM.\n",
      "\n"
     ]
    },
    {
     "data": {
      "image/png": "[encoded data removed]",
      "text/plain": [
       "<Figure size 800x500 with 1 Axes>"
      ]
     },
     "metadata": {},
     "output_type": "display_data"
    },
    {
     "name": "stdout",
     "output_type": "stream",
     "text": [
      "\n",
      "Muestra que el CPU tiene dos patrones dominantes: valores muy bajos (casi inactivos) y concentraciones entre 50% y 60%. Esto refleja que el sistema pasa por periodos de reposo y otros de carga media/alta.\n",
      "\n"
     ]
    },
    {
     "data": {
      "image/png": "[encoded data removed]",
      "text/plain": [
       "<Figure size 800x500 with 1 Axes>"
      ]
     },
     "metadata": {},
     "output_type": "display_data"
    },
    {
     "name": "stdout",
     "output_type": "stream",
     "text": [
      "\n",
      "La memoria se distribuye de forma sesgada a la derecha: la mayoría de observaciones están entre 500 y 1500 MB, pero existen valores extremos que llegan hasta 3500 MB, representando momentos de alta demanda.\n",
      "\n"
     ]
    },
    {
     "data": {
      "image/png": "[encoded data removed]",
      "text/plain": [
       "<Figure size 600x500 with 1 Axes>"
      ]
     },
     "metadata": {},
     "output_type": "display_data"
    },
    {
     "name": "stdout",
     "output_type": "stream",
     "text": [
      "\n",
      "Confirma la concentración del uso de CPU entre 50% y 60%. La ausencia de outliers marcados sugiere que los picos de CPU se mantienen relativamente controlados dentro de ese rango.\n",
      "\n"
     ]
    },
    {
     "data": {
      "image/png": "[encoded data removed]",
      "text/plain": [
       "<Figure size 600x500 with 1 Axes>"
      ]
     },
     "metadata": {},
     "output_type": "display_data"
    },
    {
     "name": "stdout",
     "output_type": "stream",
     "text": [
      "\n",
      "Evidencia que la memoria presenta múltiples outliers por encima de 2000 MB, lo cual indica picos atípicos y posibles riesgos de saturación si no se gestionan.\n",
      "\n"
     ]
    }
   ],
   "source": [
    "import matplotlib.pyplot as plt\n",
    "import seaborn as sns\n",
    "\n",
    "print(\"\")\n",
    "print(\"estos gráficos tienen sentido porque muestran claramente los patrones normales de carga y las anomalías simuladas. Son útiles para justificar la necesidad de un modelo predictivo (como LSTM) que anticipe picos en CPU y RAM.\")\n",
    "print(\"\")\n",
    "\n",
    "# ==============================\n",
    "# Histograma de uso de CPU\n",
    "# ==============================\n",
    "plt.figure(figsize=(8,5))\n",
    "sns.histplot(df['cpu_usage'], bins=30, kde=True)\n",
    "plt.title(\"Distribución del uso de CPU (%)\")\n",
    "plt.xlabel(\"Uso de CPU (%)\")\n",
    "plt.ylabel(\"Frecuencia\")\n",
    "plt.show()\n",
    "print(\"\")\n",
    "print(\"Muestra que el CPU tiene dos patrones dominantes: valores muy bajos (casi inactivos) y concentraciones entre 50% y 60%. Esto refleja que el sistema pasa por periodos de reposo y otros de carga media/alta.\")\n",
    "print(\"\")\n",
    "\n",
    "# ==============================\n",
    "# Histograma de memoria usada\n",
    "# ==============================\n",
    "plt.figure(figsize=(8,5))\n",
    "sns.histplot(df['used_memory']/1e6, bins=30, kde=True)  # convertir a MB\n",
    "plt.title(\"Distribución de la memoria usada (MB)\")\n",
    "plt.xlabel(\"Memoria usada (MB)\")\n",
    "plt.ylabel(\"Frecuencia\")\n",
    "plt.show()\n",
    "print(\"\")\n",
    "print(\"La memoria se distribuye de forma sesgada a la derecha: la mayoría de observaciones están entre 500 y 1500 MB, pero existen valores extremos que llegan hasta 3500 MB, representando momentos de alta demanda.\")\n",
    "print(\"\")\n",
    "\n",
    "# ==============================\n",
    "# Boxplot de CPU\n",
    "# ==============================\n",
    "plt.figure(figsize=(6,5))\n",
    "sns.boxplot(y=df['cpu_usage'])\n",
    "plt.title(\"Boxplot de uso de CPU (%)\")\n",
    "plt.ylabel(\"Uso de CPU (%)\")\n",
    "plt.show()\n",
    "print(\"\")\n",
    "print(\"Confirma la concentración del uso de CPU entre 50% y 60%. La ausencia de outliers marcados sugiere que los picos de CPU se mantienen relativamente controlados dentro de ese rango.\")\n",
    "print(\"\")\n",
    "# ==============================\n",
    "# Boxplot de memoria\n",
    "# ==============================\n",
    "plt.figure(figsize=(6,5))\n",
    "sns.boxplot(y=df['used_memory']/1e6)\n",
    "plt.title(\"Boxplot de memoria usada (MB)\")\n",
    "plt.ylabel(\"Memoria usada (MB)\")\n",
    "plt.show()\n",
    "\n",
    "print(\"\")\n",
    "print(\"Evidencia que la memoria presenta múltiples outliers por encima de 2000 MB, lo cual indica picos atípicos y posibles riesgos de saturación si no se gestionan.\")\n",
    "print(\"\")\n"
   ]
  },
  {
   "cell_type": "markdown",
   "id": "8f2a1a03-b8df-48e0-9c34-a86250b70933",
   "metadata": {},
   "source": [
    "#### 3.3 Análisis exploratorio (con estadísticas): Correlaciones y cruces de variables"
   ]
  },
  {
   "cell_type": "code",
   "execution_count": 9,
   "id": "45889029-7a68-4861-9385-829c0e2b249a",
   "metadata": {},
   "outputs": [
    {
     "data": {
      "image/png": "[encoded data removed]",
      "text/plain": [
       "<Figure size 600x400 with 2 Axes>"
      ]
     },
     "metadata": {},
     "output_type": "display_data"
    }
   ],
   "source": [
    "# ==============================\n",
    "# 3.3 Análisis exploratorio (con estadísticas)\n",
    "# ==============================\n",
    "\n",
    "\n",
    "# Correlaciones numéricas\n",
    "plt.figure(figsize=(6,4))\n",
    "sns.heatmap(df.corr(numeric_only=True), annot=True, cmap='coolwarm', fmt=\".2f\")\n",
    "plt.title(\"Matriz de correlaciones: CPU vs Memoria\")\n",
    "plt.show()\n",
    "\n",
    "# Nota: No hay variables categóricas en este dataset simulado,\n",
    "# Cruce de variables categóricas con el objetivo\n",
    "#pd.crosstab(df['Fuel type'], df['State'], normalize='index') * 100\n"
   ]
  },
  {
   "cell_type": "markdown",
   "id": "8bce94d6-df0b-4e03-a1f5-e0245c987563",
   "metadata": {},
   "source": [
    "#### 3.4 Diagnóstico de calidad inicial "
   ]
  },
  {
   "cell_type": "code",
   "execution_count": 10,
   "id": "448564bb-63f6-4169-894d-7d9c67746e94",
   "metadata": {},
   "outputs": [
    {
     "name": "stdout",
     "output_type": "stream",
     "text": [
      "Valores faltantes por columna:\n",
      "cpu_usage      0\n",
      "used_memory    0\n",
      "dtype: int64\n",
      "\n",
      "Registros duplicados: 121\n",
      "\n",
      "Rango de uso de CPU (%): 0.004054 - 75.112623\n",
      "Rango de memoria usada (bytes): 275095552 - 3626500096\n",
      "\n",
      "Registros sospechosos (CPU fuera de 0–100% o RAM negativa): 0\n"
     ]
    }
   ],
   "source": [
    "\n",
    "# 1. Valores faltantes\n",
    "print(\"Valores faltantes por columna:\")\n",
    "print(df.isnull().sum())\n",
    "\n",
    "# 2. Registros duplicados\n",
    "duplicados = df.duplicated().sum()\n",
    "print(\"\\nRegistros duplicados:\", duplicados)\n",
    "\n",
    "# 3. Posibles inconsistencias en CPU y memoria\n",
    "print(\"\\nRango de uso de CPU (%):\", df['cpu_usage'].min(), \"-\", df['cpu_usage'].max())\n",
    "print(\"Rango de memoria usada (bytes):\", df['used_memory'].min(), \"-\", df['used_memory'].max())\n",
    "\n",
    "suspects = df[(df['cpu_usage'] < 0) | (df['cpu_usage'] > 100) | (df['used_memory'] < 0)]\n",
    "print(\"\\nRegistros sospechosos (CPU fuera de 0–100% o RAM negativa):\", len(suspects))\n",
    "\n",
    "if not suspects.empty:\n",
    "    display(suspects.head())\n"
   ]
  },
  {
   "cell_type": "code",
   "execution_count": 11,
   "id": "e3a9c311-037f-4d9b-8d3c-4b358c818a3d",
   "metadata": {},
   "outputs": [
    {
     "name": "stdout",
     "output_type": "stream",
     "text": [
      "Archivos guardados en: /opt/notebooks/Mineria de datos/PY MINERIA DE DATOS/V3/salidas_calidad\n",
      "\n",
      "=== LIMPIO ===\n",
      "shape: (4320, 2)\n",
      "faltantes:\n",
      " cpu_usage      0\n",
      "used_memory    0\n",
      "dtype: int64\n",
      "duplicados: 121\n",
      "CPU min-max: 0.004054 - 75.112623\n",
      "RAM  min-max: 275095552 - 3626500096\n",
      "\n",
      "=== SUCIO ===\n",
      "shape: (4406, 2)\n",
      "faltantes:\n",
      " cpu_usage      44\n",
      "used_memory    45\n",
      "dtype: int64\n",
      "duplicados: 203\n",
      "CPU min-max: 0.004054 - 188.76999400091012\n",
      "RAM  min-max: -7117.0 - 3626500096.0\n",
      "\n",
      "=== LIMPIEZA_RÁPIDA ===\n",
      "shape: (4099, 2)\n",
      "faltantes:\n",
      " cpu_usage      0\n",
      "used_memory    0\n",
      "dtype: int64\n",
      "duplicados: 0\n",
      "CPU min-max: 0.004054 - 75.112623\n",
      "RAM  min-max: 275173376.0 - 3626500096.0\n"
     ]
    }
   ],
   "source": [
    "import numpy as np\n",
    "import pandas as pd\n",
    "from pathlib import Path\n",
    "\n",
    "# Carpeta de salida (puedes cambiarla)\n",
    "outdir = Path(\"./salidas_calidad\")\n",
    "outdir.mkdir(parents=True, exist_ok=True)\n",
    "\n",
    "# Guardar una copia limpia de referencia\n",
    "df_clean = df.copy()\n",
    "df_clean.to_csv(outdir / \"df_clean.csv\", index=False)\n",
    "\n",
    "def contaminar(df, frac_nans=0.01, n_outliers=12, n_neg_ram=8, dup_frac=0.02, seed=2025):\n",
    "    \"\"\"\n",
    "    Ensucia el dataset:\n",
    "      - Inserta NaNs en ambas columnas (~ frac_nans)\n",
    "      - Inyecta outliers de CPU > 100 (n_outliers)\n",
    "      - Inyecta RAM negativa (n_neg_ram)\n",
    "      - Duplica ~ dup_frac del total de filas\n",
    "    \"\"\"\n",
    "    rng = np.random.default_rng(seed)\n",
    "    df_noisy = df.copy()\n",
    "    n = len(df_noisy)\n",
    "\n",
    "    # 1) NaN aleatorios\n",
    "    k = max(1, int(frac_nans * n))\n",
    "    idx_nan_cpu = rng.choice(n, size=k, replace=False)\n",
    "    idx_nan_ram = rng.choice(n, size=k, replace=False)\n",
    "    df_noisy.loc[idx_nan_cpu, 'cpu_usage'] = np.nan\n",
    "    df_noisy.loc[idx_nan_ram, 'used_memory'] = np.nan\n",
    "\n",
    "    # 2) Outliers: CPU > 100\n",
    "    m = min(n_outliers, n)\n",
    "    idx_out_cpu = rng.choice(n, size=m, replace=False)\n",
    "    df_noisy.loc[idx_out_cpu, 'cpu_usage'] = rng.uniform(110, 200, size=m)\n",
    "\n",
    "    # 3) RAM negativa\n",
    "    r = min(n_neg_ram, n)\n",
    "    idx_neg_ram = rng.choice(n, size=r, replace=False)\n",
    "    df_noisy.loc[idx_neg_ram, 'used_memory'] = -rng.integers(1_000, 10_000, size=r)\n",
    "\n",
    "    # 4) Duplicados (~ dup_frac)\n",
    "    d = max(1, int(dup_frac * n))\n",
    "    dup_rows = df_noisy.sample(d, random_state=seed)\n",
    "    df_noisy = pd.concat([df_noisy, dup_rows], ignore_index=True)\n",
    "\n",
    "    return df_noisy\n",
    "\n",
    "# Generar data ensuciada\n",
    "df_dirty = contaminar(df_clean,\n",
    "                      frac_nans=0.01,\n",
    "                      n_outliers=12,\n",
    "                      n_neg_ram=8,\n",
    "                      dup_frac=0.02,\n",
    "                      seed=2025)\n",
    "\n",
    "# Guardar dataset sucio\n",
    "df_dirty.to_csv(outdir / \"df_dirty.csv\", index=False)\n",
    "\n",
    "# Limpieza rápida de ejemplo (para comparar)\n",
    "df_fix = (\n",
    "    df_dirty\n",
    "    .drop_duplicates()\n",
    "    .query(\"used_memory >= 0\")\n",
    "    .copy()\n",
    ")\n",
    "# Reglas de negocio: CPU 0–100; imputación mediana\n",
    "df_fix = df_fix[df_fix['cpu_usage'].between(0, 100, inclusive='both')]\n",
    "df_fix['cpu_usage'] = df_fix['cpu_usage'].fillna(df_fix['cpu_usage'].median())\n",
    "df_fix['used_memory'] = df_fix['used_memory'].fillna(df_fix['used_memory'].median())\n",
    "\n",
    "# Guardar dataset “arreglado”\n",
    "df_fix.to_csv(outdir / \"df_fix.csv\", index=False)\n",
    "\n",
    "# Resumen rápido\n",
    "print(\"Archivos guardados en:\", outdir.resolve())\n",
    "for name, d in [(\"LIMPIO\", df_clean), (\"SUCIO\", df_dirty), (\"LIMPIEZA_RÁPIDA\", df_fix)]:\n",
    "    print(f\"\\n=== {name} ===\")\n",
    "    print(\"shape:\", d.shape)\n",
    "    print(\"faltantes:\\n\", d.isna().sum())\n",
    "    print(\"duplicados:\", d.duplicated().sum())\n",
    "    print(\"CPU min-max:\", np.nanmin(d['cpu_usage']), \"-\", np.nanmax(d['cpu_usage']))\n",
    "    print(\"RAM  min-max:\", np.nanmin(d['used_memory']), \"-\", np.nanmax(d['used_memory']))\n"
   ]
  },
  {
   "cell_type": "markdown",
   "id": "e6043a89-d53c-404c-9927-092b77c543e6",
   "metadata": {},
   "source": [
    "#### 3.5 Perfil estadístico comparativo "
   ]
  },
  {
   "cell_type": "code",
   "execution_count": 12,
   "id": "7470ce6a-eb29-4b9b-846d-ebb5b552ff53",
   "metadata": {},
   "outputs": [],
   "source": [
    "# En tu caso, en la fase 3.5 no se puede hacer un perfil comparativo entre clases, porque solo tienes series numéricas continuas \n",
    "# (cpu_usage, used_memory).\n",
    "\n",
    "# Medias comparativas numéricas\n",
    "#df.groupby('State').mean(numeric_only=True)"
   ]
  },
  {
   "cell_type": "code",
   "execution_count": 13,
   "id": "14deadc1-09ae-4ae4-a20d-31854056160b",
   "metadata": {},
   "outputs": [],
   "source": [
    "# Comparación gráfica de variables numéricas\n",
    "#plt.figure(figsize=(8,5))\n",
    "#sns.histplot(data=df, x='Vehicle age', hue='State', kde=True, bins=30)\n",
    "#plt.title(\"Edad del vehículo según estado\")\n",
    "#plt.show()"
   ]
  },
  {
   "cell_type": "code",
   "execution_count": 14,
   "id": "ae9e2377-28d8-4a94-a85b-df20ee823513",
   "metadata": {},
   "outputs": [],
   "source": [
    "#perfil_num = df.groupby('State')[['Vehicle age','CO percVol','HC ppm','CO2 percVol']]\n",
    "#perfil_num = perfil_num.agg(['mean','median','std','min','max']).round(3)\n",
    "#display(perfil_num)\n",
    "\n",
    "#perfil_cat_fuel = pd.crosstab(df['Fuel type'], df['State'], normalize='columns')*100\n",
    "#perfil_cat_type = pd.crosstab(df['Vehicle type'], df['State'], normalize='columns')*100\n",
    "#display(perfil_cat_fuel.round(2))\n",
    "#display(perfil_cat_type.round(2))\n",
    "\n",
    "#perfil_num.to_csv('perfil_numerico_por_estado.csv')\n",
    "#perfil_cat_fuel.to_csv('perfil_combustible_por_estado.csv')\n",
    "#perfil_cat_type.to_csv('perfil_tipovehiculo_por_estado.csv')\n",
    "#print('Archivos CSV exportados.')"
   ]
  },
  {
   "cell_type": "markdown",
   "id": "7663555e-3a0f-454c-b594-b7127fc3d78b",
   "metadata": {},
   "source": [
    "### 3.6 Hallazgos"
   ]
  },
  {
   "cell_type": "markdown",
   "id": "d787074a-878e-43e7-89da-4a21186dd9ae",
   "metadata": {
    "jp-MarkdownHeadingCollapsed": true
   },
   "source": [
    "### 3.6 Hallazgos  \n",
    "#### Hallazgos del Paso 3: Descriptive analysis  \n",
    "\n",
    "**1. Distribución general del dataset**  \n",
    "- Nuestro dataset contiene **4320 registros** y **2 variables numéricas**: `cpu_usage` y `used_memory`.  \n",
    "- Ambas variables son continuas y representan el uso de recursos en un servidor monitoreado.  \n",
    "- No contamos con variables categóricas ni con una variable objetivo (`State`), ya que los datos provienen de una **simulación de carga** diseñada para nuestro caso de estudio.  \n",
    "\n",
    "**2. Valores faltantes y duplicados**  \n",
    "- En la versión limpia inicial no identificamos valores nulos.  \n",
    "- Encontramos **121 registros duplicados**, probablemente debido a capturas realizadas en intervalos muy cercanos.  \n",
    "- Tras introducir ruido para ensuciar la data, se generaron **44–45 valores faltantes**, además de **203 duplicados**.  \n",
    "\n",
    "**3. Posibles inconsistencias**  \n",
    "- En la data original los rangos eran coherentes:  \n",
    "  - CPU: entre **0.004% y 75.1%**.  \n",
    "  - RAM: entre **275 MB y 3.62 GB**.  \n",
    "- En la data contaminada aparecieron valores atípicos:  \n",
    "  - CPU fuera del rango lógico (hasta **188%**).  \n",
    "  - RAM negativa (hasta **–7117 bytes**).  \n",
    "- Estos valores imposibles refuerzan la importancia de realizar una limpieza adecuada.  \n",
    "\n",
    "**4. Efecto de la limpieza**  \n",
    "- Con la limpieza rápida aplicada (eliminación de duplicados, imputación de nulos con la mediana y filtrado de outliers), dejamos un dataset final con **4099 registros**.  \n",
    "- Los rangos se restablecieron a valores consistentes:  \n",
    "  - CPU: entre **0% y 75%**.  \n",
    "  - RAM: entre **275 MB y 3.62 GB**.  \n",
    "- Esto demuestra que nuestra estrategia de limpieza devuelve un dataset confiable y utilizable para el modelado.  \n",
    "\n",
    "**5. Interpretación**  \n",
    "- La simulación nos permitió evidenciar cómo un sistema puede presentar **valores ruidosos** (duplicados, outliers, registros imposibles) que afectarían el desempeño de un modelo predictivo.  \n",
    "- Al corregirlos, aseguramos que los datos estén en condiciones estables y listos para la fase de **modelado con LSTM**, donde podremos anticipar saturaciones en CPU y memoria de manera confiable.  \n"
   ]
  },
  {
   "cell_type": "markdown",
   "id": "2674996d-a262-4e0e-8e5b-8ad33addad36",
   "metadata": {},
   "source": [
    "## Fase 3. Data Preparation"
   ]
  },
  {
   "cell_type": "markdown",
   "id": "31aa26b3-891c-4998-aa5d-5b153a98f3dc",
   "metadata": {},
   "source": [
    "### 🧹 4. Data cleaning"
   ]
  },
  {
   "cell_type": "markdown",
   "id": "2962f0a4-511c-4e75-8c3c-e5382ad8f2e6",
   "metadata": {},
   "source": [
    "#### 4.1 Selección inicial de variables claves"
   ]
  },
  {
   "cell_type": "markdown",
   "id": "fd9a0a1f-bd6d-445f-8cff-5edbe31c85c2",
   "metadata": {},
   "source": [
    "En nuestro proyecto, queremos construir un modelo LSTM que prediga la saturación de **CPU** y **RAM** en servidores de la UPeU, integrando los resultados al sistema de monitoreo Zabbix.  \n",
    "Por lo tanto, debemos identificar qué columnas conservar y cuáles eliminar.  "
   ]
  },
  {
   "cell_type": "markdown",
   "id": "9998b9f2-5e60-44f6-8f00-f3516530aa46",
   "metadata": {},
   "source": [
    "##### a) Candidatas a **ELIMINAR** (irrelevantes para el modelado)  \n",
    "- **Metadatos administrativos** (no disponibles en esta simulación, pero podrían aparecer en datos reales):  \n",
    "  `timestamp`, `hostname`, `service_name`, `process_id`  \n",
    "  > *Motivo:* No aportan al análisis predictivo, solo sirven como referencia de auditoría.  \n",
    "\n",
    "- **Variables redundantes o derivadas**:  \n",
    "  En esta simulación no tenemos, pero si tuviéramos métricas calculadas (ej. `%used_memory` como duplicado de `used_memory`), se eliminarían para evitar multicolinealidad.  \n",
    "\n",
    "##### b) Candidatas a **CONSERVAR** (predictores)  \n",
    "- `cpu_usage` → porcentaje de uso de CPU.  \n",
    "- `used_memory` → memoria usada en bytes.  \n",
    "\n",
    "Estas son nuestras **variables clave predictoras**, ya que reflejan directamente el comportamiento de carga del sistema.  \n",
    "\n",
    "##### c) Variable objetivo (target)  \n",
    "En este caso no tenemos una columna explícita de “Aprobado/Desaprobado”.  \n",
    "Definiremos el **target de predicción como el valor futuro** de las mismas variables (`cpu_usage`, `used_memory`) en un horizonte de 15–30 minutos.  \n",
    "\n",
    "De esta forma, el modelo LSTM podrá anticipar saturaciones antes de que ocurran.  \n",
    "\n"
   ]
  },
  {
   "cell_type": "code",
   "execution_count": 15,
   "id": "3cdba4ed-56ab-4d78-a9fa-5419efd3d896",
   "metadata": {},
   "outputs": [
    {
     "name": "stdout",
     "output_type": "stream",
     "text": [
      "df_sel.shape: (4320, 2)\n",
      "df_sel.columns: ['cpu_usage', 'used_memory']\n"
     ]
    },
    {
     "data": {
      "text/html": [
       "<div>\n",
       "<style scoped>\n",
       "    .dataframe tbody tr th:only-of-type {\n",
       "        vertical-align: middle;\n",
       "    }\n",
       "\n",
       "    .dataframe tbody tr th {\n",
       "        vertical-align: top;\n",
       "    }\n",
       "\n",
       "    .dataframe thead th {\n",
       "        text-align: right;\n",
       "    }\n",
       "</style>\n",
       "<table border=\"1\" class=\"dataframe\">\n",
       "  <thead>\n",
       "    <tr style=\"text-align: right;\">\n",
       "      <th></th>\n",
       "      <th>cpu_usage</th>\n",
       "      <th>used_memory</th>\n",
       "    </tr>\n",
       "  </thead>\n",
       "  <tbody>\n",
       "    <tr>\n",
       "      <th>0</th>\n",
       "      <td>0.012267</td>\n",
       "      <td>275972096</td>\n",
       "    </tr>\n",
       "    <tr>\n",
       "      <th>1</th>\n",
       "      <td>0.016353</td>\n",
       "      <td>275972096</td>\n",
       "    </tr>\n",
       "    <tr>\n",
       "      <th>2</th>\n",
       "      <td>0.020475</td>\n",
       "      <td>276099072</td>\n",
       "    </tr>\n",
       "  </tbody>\n",
       "</table>\n",
       "</div>"
      ],
      "text/plain": [
       "   cpu_usage  used_memory\n",
       "0   0.012267    275972096\n",
       "1   0.016353    275972096\n",
       "2   0.020475    276099072"
      ]
     },
     "execution_count": 15,
     "metadata": {},
     "output_type": "execute_result"
    }
   ],
   "source": [
    "# Nuestro dataset solo tiene métricas de rendimiento (cpu_usage, used_memory).\n",
    "# Por lo tanto, trabajaremos directamente con estas variables.\n",
    "\n",
    "features_keep = [\"cpu_usage\", \"used_memory\"]\n",
    "\n",
    "df_sel = df[features_keep].copy()\n",
    "\n",
    "print(\"df_sel.shape:\", df_sel.shape)\n",
    "print(\"df_sel.columns:\", df_sel.columns.tolist())\n",
    "df_sel.head(3)"
   ]
  },
  {
   "cell_type": "code",
   "execution_count": 16,
   "id": "79c55462-49a2-46e8-a047-0e35a92ec5dd",
   "metadata": {},
   "outputs": [
    {
     "data": {
      "text/plain": [
       "121"
      ]
     },
     "execution_count": 16,
     "metadata": {},
     "output_type": "execute_result"
    }
   ],
   "source": [
    "# 1. Revisar duplicados (en todo el registro de estas columnas)\n",
    "duplicates_count = df_sel.duplicated().sum()\n",
    "# df_sel = df_sel.drop_duplicates()\n",
    "duplicates_count"
   ]
  },
  {
   "cell_type": "code",
   "execution_count": 17,
   "id": "5d81f0fc-e3c8-4d0f-a14a-2b86c437b2ab",
   "metadata": {},
   "outputs": [
    {
     "name": "stdout",
     "output_type": "stream",
     "text": [
      "Resumen CPU:\n",
      " count    4320.000000\n",
      "mean       35.354466\n",
      "std        26.205700\n",
      "min         0.004054\n",
      "25%         0.012324\n",
      "50%        52.169116\n",
      "75%        55.540776\n",
      "max        75.112623\n",
      "Name: cpu_usage, dtype: float64\n",
      "\n",
      "Outliers CPU (>100% o <0): 0 0\n",
      "\n",
      "Resumen RAM:\n",
      " count    4.320000e+03\n",
      "mean     9.495881e+08\n",
      "std      4.830037e+08\n",
      "min      2.750956e+08\n",
      "25%      6.754540e+08\n",
      "50%      8.958239e+08\n",
      "75%      1.213200e+09\n",
      "max      3.626500e+09\n",
      "Name: used_memory, dtype: float64\n",
      "\n",
      "Outliers RAM (negativos): 0\n"
     ]
    }
   ],
   "source": [
    "# ==============================\n",
    "# 2. Revisar outliers en CPU y RAM\n",
    "# ==============================\n",
    "\n",
    "# Resumen estadístico de CPU\n",
    "cpu_summary = df_sel['cpu_usage'].describe()\n",
    "# Valores fuera del rango esperado (0–100%)\n",
    "outliers_cpu_high = df_sel[df_sel['cpu_usage'] > 100].shape[0]\n",
    "outliers_cpu_low  = df_sel[df_sel['cpu_usage'] < 0].shape[0]\n",
    "\n",
    "# Resumen estadístico de RAM\n",
    "ram_summary = df_sel['used_memory'].describe()\n",
    "# Valores negativos de RAM\n",
    "outliers_ram_low  = df_sel[df_sel['used_memory'] < 0].shape[0]\n",
    "\n",
    "print(\"Resumen CPU:\\n\", cpu_summary)\n",
    "print(\"\\nOutliers CPU (>100% o <0):\", outliers_cpu_high, outliers_cpu_low)\n",
    "print(\"\\nResumen RAM:\\n\", ram_summary)\n",
    "print(\"\\nOutliers RAM (negativos):\", outliers_ram_low)\n"
   ]
  },
  {
   "cell_type": "code",
   "execution_count": 18,
   "id": "fcbc89d6-07cd-4ec5-b176-3172449c5cd8",
   "metadata": {},
   "outputs": [
    {
     "data": {
      "text/plain": [
       "cpu_usage      0\n",
       "used_memory    0\n",
       "dtype: int64"
      ]
     },
     "execution_count": 18,
     "metadata": {},
     "output_type": "execute_result"
    }
   ],
   "source": [
    "# 3. Revisar valores faltantes\n",
    "df_sel.isnull().sum()"
   ]
  },
  {
   "cell_type": "code",
   "execution_count": 19,
   "id": "5b8e5f1b-7a79-4603-ae24-9d726c536925",
   "metadata": {},
   "outputs": [
    {
     "data": {
      "text/plain": [
       "cpu_usage      0.0\n",
       "used_memory    0.0\n",
       "dtype: float64"
      ]
     },
     "execution_count": 19,
     "metadata": {},
     "output_type": "execute_result"
    }
   ],
   "source": [
    "#porcentaje de valores null por columna\n",
    "miss = (df_sel.isnull().sum() / len(df_sel))*100\n",
    "miss.sort_values(inplace=True)\n",
    "miss"
   ]
  },
  {
   "cell_type": "code",
   "execution_count": 20,
   "id": "926bbe21-f0ef-48f9-afa9-cca0a5451b73",
   "metadata": {},
   "outputs": [
    {
     "data": {
      "text/html": [
       "<div>\n",
       "<style scoped>\n",
       "    .dataframe tbody tr th:only-of-type {\n",
       "        vertical-align: middle;\n",
       "    }\n",
       "\n",
       "    .dataframe tbody tr th {\n",
       "        vertical-align: top;\n",
       "    }\n",
       "\n",
       "    .dataframe thead th {\n",
       "        text-align: right;\n",
       "    }\n",
       "</style>\n",
       "<table border=\"1\" class=\"dataframe\">\n",
       "  <thead>\n",
       "    <tr style=\"text-align: right;\">\n",
       "      <th></th>\n",
       "      <th>cpu_usage</th>\n",
       "      <th>used_memory</th>\n",
       "    </tr>\n",
       "  </thead>\n",
       "  <tbody>\n",
       "    <tr>\n",
       "      <th>0</th>\n",
       "      <td>0.012267</td>\n",
       "      <td>275972096</td>\n",
       "    </tr>\n",
       "    <tr>\n",
       "      <th>1</th>\n",
       "      <td>0.016353</td>\n",
       "      <td>275972096</td>\n",
       "    </tr>\n",
       "    <tr>\n",
       "      <th>2</th>\n",
       "      <td>0.020475</td>\n",
       "      <td>276099072</td>\n",
       "    </tr>\n",
       "    <tr>\n",
       "      <th>3</th>\n",
       "      <td>0.016341</td>\n",
       "      <td>275484672</td>\n",
       "    </tr>\n",
       "    <tr>\n",
       "      <th>4</th>\n",
       "      <td>0.024561</td>\n",
       "      <td>275484672</td>\n",
       "    </tr>\n",
       "    <tr>\n",
       "      <th>...</th>\n",
       "      <td>...</td>\n",
       "      <td>...</td>\n",
       "    </tr>\n",
       "    <tr>\n",
       "      <th>4315</th>\n",
       "      <td>72.196230</td>\n",
       "      <td>1480065024</td>\n",
       "    </tr>\n",
       "    <tr>\n",
       "      <th>4316</th>\n",
       "      <td>72.221479</td>\n",
       "      <td>2495049728</td>\n",
       "    </tr>\n",
       "    <tr>\n",
       "      <th>4317</th>\n",
       "      <td>72.101433</td>\n",
       "      <td>1966522368</td>\n",
       "    </tr>\n",
       "    <tr>\n",
       "      <th>4318</th>\n",
       "      <td>72.423324</td>\n",
       "      <td>1564672000</td>\n",
       "    </tr>\n",
       "    <tr>\n",
       "      <th>4319</th>\n",
       "      <td>73.091833</td>\n",
       "      <td>2229862400</td>\n",
       "    </tr>\n",
       "  </tbody>\n",
       "</table>\n",
       "<p>4320 rows × 2 columns</p>\n",
       "</div>"
      ],
      "text/plain": [
       "      cpu_usage  used_memory\n",
       "0      0.012267    275972096\n",
       "1      0.016353    275972096\n",
       "2      0.020475    276099072\n",
       "3      0.016341    275484672\n",
       "4      0.024561    275484672\n",
       "...         ...          ...\n",
       "4315  72.196230   1480065024\n",
       "4316  72.221479   2495049728\n",
       "4317  72.101433   1966522368\n",
       "4318  72.423324   1564672000\n",
       "4319  73.091833   2229862400\n",
       "\n",
       "[4320 rows x 2 columns]"
      ]
     },
     "execution_count": 20,
     "metadata": {},
     "output_type": "execute_result"
    }
   ],
   "source": [
    "df_sel"
   ]
  },
  {
   "cell_type": "code",
   "execution_count": 21,
   "id": "47095471-c5fc-4a3a-a68b-6767a8649440",
   "metadata": {},
   "outputs": [
    {
     "name": "stdout",
     "output_type": "stream",
     "text": [
      "df_sel.shape: (4320, 2)\n",
      "df_clean.shape: (4320, 2)\n"
     ]
    }
   ],
   "source": [
    "#Eliminar los valores nulos, este paso no es necesario\n",
    "df_clean = df_sel.dropna()\n",
    "print('df_sel.shape:',df_sel.shape)\n",
    "print('df_clean.shape:',df_clean.shape)"
   ]
  },
  {
   "cell_type": "code",
   "execution_count": 22,
   "id": "7dbfbb0c-0a22-4844-a779-cb98c2b56002",
   "metadata": {},
   "outputs": [
    {
     "data": {
      "text/html": [
       "<div>\n",
       "<style scoped>\n",
       "    .dataframe tbody tr th:only-of-type {\n",
       "        vertical-align: middle;\n",
       "    }\n",
       "\n",
       "    .dataframe tbody tr th {\n",
       "        vertical-align: top;\n",
       "    }\n",
       "\n",
       "    .dataframe thead th {\n",
       "        text-align: right;\n",
       "    }\n",
       "</style>\n",
       "<table border=\"1\" class=\"dataframe\">\n",
       "  <thead>\n",
       "    <tr style=\"text-align: right;\">\n",
       "      <th></th>\n",
       "      <th>cpu_usage</th>\n",
       "      <th>used_memory</th>\n",
       "    </tr>\n",
       "  </thead>\n",
       "  <tbody>\n",
       "    <tr>\n",
       "      <th>count</th>\n",
       "      <td>4320.000000</td>\n",
       "      <td>4.320000e+03</td>\n",
       "    </tr>\n",
       "    <tr>\n",
       "      <th>mean</th>\n",
       "      <td>35.354466</td>\n",
       "      <td>9.495881e+08</td>\n",
       "    </tr>\n",
       "    <tr>\n",
       "      <th>std</th>\n",
       "      <td>26.205700</td>\n",
       "      <td>4.830037e+08</td>\n",
       "    </tr>\n",
       "    <tr>\n",
       "      <th>min</th>\n",
       "      <td>0.004054</td>\n",
       "      <td>2.750956e+08</td>\n",
       "    </tr>\n",
       "    <tr>\n",
       "      <th>25%</th>\n",
       "      <td>0.012324</td>\n",
       "      <td>6.754540e+08</td>\n",
       "    </tr>\n",
       "    <tr>\n",
       "      <th>50%</th>\n",
       "      <td>52.169116</td>\n",
       "      <td>8.958239e+08</td>\n",
       "    </tr>\n",
       "    <tr>\n",
       "      <th>75%</th>\n",
       "      <td>55.540776</td>\n",
       "      <td>1.213200e+09</td>\n",
       "    </tr>\n",
       "    <tr>\n",
       "      <th>max</th>\n",
       "      <td>75.112623</td>\n",
       "      <td>3.626500e+09</td>\n",
       "    </tr>\n",
       "  </tbody>\n",
       "</table>\n",
       "</div>"
      ],
      "text/plain": [
       "         cpu_usage   used_memory\n",
       "count  4320.000000  4.320000e+03\n",
       "mean     35.354466  9.495881e+08\n",
       "std      26.205700  4.830037e+08\n",
       "min       0.004054  2.750956e+08\n",
       "25%       0.012324  6.754540e+08\n",
       "50%      52.169116  8.958239e+08\n",
       "75%      55.540776  1.213200e+09\n",
       "max      75.112623  3.626500e+09"
      ]
     },
     "execution_count": 22,
     "metadata": {},
     "output_type": "execute_result"
    }
   ],
   "source": [
    "# \n",
    "df_clean.describe()"
   ]
  },
  {
   "cell_type": "code",
   "execution_count": 23,
   "id": "9475c4e2-5097-4e0a-8a81-3637ab4fcd11",
   "metadata": {},
   "outputs": [
    {
     "name": "stdout",
     "output_type": "stream",
     "text": [
      "<class 'pandas.core.frame.DataFrame'>\n",
      "RangeIndex: 4320 entries, 0 to 4319\n",
      "Data columns (total 2 columns):\n",
      " #   Column       Non-Null Count  Dtype  \n",
      "---  ------       --------------  -----  \n",
      " 0   cpu_usage    4320 non-null   float64\n",
      " 1   used_memory  4320 non-null   int64  \n",
      "dtypes: float64(1), int64(1)\n",
      "memory usage: 67.6 KB\n"
     ]
    }
   ],
   "source": [
    "df_clean.info()\n"
   ]
  },
  {
   "cell_type": "code",
   "execution_count": 24,
   "id": "0dd96d7d-4f02-43cf-932e-18393c4c55b7",
   "metadata": {},
   "outputs": [
    {
     "name": "stdout",
     "output_type": "stream",
     "text": [
      "There are 2 numeric and 0 categorical columns in train data\n"
     ]
    }
   ],
   "source": [
    "#separate variables into new data frames\n",
    "\n",
    "numeric_data = df_clean.select_dtypes(include=[np.number])\n",
    "categor_data = df_clean.select_dtypes(exclude=[np.number])\n",
    "print (\"There are {} numeric and {} categorical columns in train data\".format(numeric_data.shape[1],categor_data.shape[1]))"
   ]
  },
  {
   "cell_type": "code",
   "execution_count": 25,
   "id": "fbcafe8f-7480-4769-870a-b9323f6cd834",
   "metadata": {},
   "outputs": [
    {
     "data": {
      "text/html": [
       "<div>\n",
       "<style scoped>\n",
       "    .dataframe tbody tr th:only-of-type {\n",
       "        vertical-align: middle;\n",
       "    }\n",
       "\n",
       "    .dataframe tbody tr th {\n",
       "        vertical-align: top;\n",
       "    }\n",
       "\n",
       "    .dataframe thead th {\n",
       "        text-align: right;\n",
       "    }\n",
       "</style>\n",
       "<table border=\"1\" class=\"dataframe\">\n",
       "  <thead>\n",
       "    <tr style=\"text-align: right;\">\n",
       "      <th></th>\n",
       "      <th>cpu_usage</th>\n",
       "      <th>used_memory</th>\n",
       "    </tr>\n",
       "  </thead>\n",
       "  <tbody>\n",
       "    <tr>\n",
       "      <th>count</th>\n",
       "      <td>4320.000000</td>\n",
       "      <td>4.320000e+03</td>\n",
       "    </tr>\n",
       "    <tr>\n",
       "      <th>mean</th>\n",
       "      <td>35.354466</td>\n",
       "      <td>9.495881e+08</td>\n",
       "    </tr>\n",
       "    <tr>\n",
       "      <th>std</th>\n",
       "      <td>26.205700</td>\n",
       "      <td>4.830037e+08</td>\n",
       "    </tr>\n",
       "    <tr>\n",
       "      <th>min</th>\n",
       "      <td>0.004054</td>\n",
       "      <td>2.750956e+08</td>\n",
       "    </tr>\n",
       "    <tr>\n",
       "      <th>25%</th>\n",
       "      <td>0.012324</td>\n",
       "      <td>6.754540e+08</td>\n",
       "    </tr>\n",
       "    <tr>\n",
       "      <th>50%</th>\n",
       "      <td>52.169116</td>\n",
       "      <td>8.958239e+08</td>\n",
       "    </tr>\n",
       "    <tr>\n",
       "      <th>75%</th>\n",
       "      <td>55.540776</td>\n",
       "      <td>1.213200e+09</td>\n",
       "    </tr>\n",
       "    <tr>\n",
       "      <th>max</th>\n",
       "      <td>75.112623</td>\n",
       "      <td>3.626500e+09</td>\n",
       "    </tr>\n",
       "  </tbody>\n",
       "</table>\n",
       "</div>"
      ],
      "text/plain": [
       "         cpu_usage   used_memory\n",
       "count  4320.000000  4.320000e+03\n",
       "mean     35.354466  9.495881e+08\n",
       "std      26.205700  4.830037e+08\n",
       "min       0.004054  2.750956e+08\n",
       "25%       0.012324  6.754540e+08\n",
       "50%      52.169116  8.958239e+08\n",
       "75%      55.540776  1.213200e+09\n",
       "max      75.112623  3.626500e+09"
      ]
     },
     "execution_count": 25,
     "metadata": {},
     "output_type": "execute_result"
    }
   ],
   "source": [
    "numeric_data.describe()"
   ]
  },
  {
   "cell_type": "code",
   "execution_count": 26,
   "id": "d5adce3f-26ed-4b8e-84c8-7a81348b6479",
   "metadata": {},
   "outputs": [
    {
     "data": {
      "text/plain": [
       "<Axes: >"
      ]
     },
     "execution_count": 26,
     "metadata": {},
     "output_type": "execute_result"
    },
    {
     "data": {
      "image/png": "[encoded data removed]",
      "text/plain": [
       "<Figure size 640x480 with 2 Axes>"
      ]
     },
     "metadata": {},
     "output_type": "display_data"
    }
   ],
   "source": [
    "#correlation plot\n",
    "corr = numeric_data.corr()\n",
    "sns.heatmap(corr, annot=True)"
   ]
  },
  {
   "cell_type": "code",
   "execution_count": 27,
   "id": "b3458438-6454-4163-be9c-243c6ea164de",
   "metadata": {},
   "outputs": [],
   "source": [
    "#categor_data.describe()"
   ]
  },
  {
   "cell_type": "code",
   "execution_count": 28,
   "id": "c7e12f33-db46-4efc-9087-105bb7cf6abb",
   "metadata": {},
   "outputs": [
    {
     "name": "stdout",
     "output_type": "stream",
     "text": [
      "numeric_data.columns: Index(['cpu_usage', 'used_memory'], dtype='object')\n",
      "categor_data.columns: Index([], dtype='object')\n"
     ]
    }
   ],
   "source": [
    "print('numeric_data.columns:',numeric_data.columns)\n",
    "print('categor_data.columns:',categor_data.columns)"
   ]
  },
  {
   "cell_type": "markdown",
   "id": "451748ae-97ec-4efa-886b-35e1ef05c0c7",
   "metadata": {},
   "source": [
    "### 🧹 5. Data transformation"
   ]
  },
  {
   "cell_type": "markdown",
   "id": "4e4495e6-452d-407c-9e40-088ccaeacbb7",
   "metadata": {},
   "source": [
    "\n",
    "🔹 **Lo que NO aplica**  \n",
    "- **Label Encoding de `State`** → no tenemos variable objetivo binaria.  \n",
    "- **One-Hot Encoding (`Vehicle type`, `Fuel type`)** → no existen variables categóricas.  \n",
    "\n",
    "---\n",
    "\n",
    "🔹 **Lo que SÍ aplica**  \n",
    "- **Escalado de variables numéricas** (muy importante antes de entrenar un modelo LSTM o cualquier red neuronal).  \n",
    "- Se puede usar:  \n",
    "  - **StandardScaler** → transforma a media = 0, varianza = 1.  \n",
    "  - **MinMaxScaler** → normaliza al rango [0, 1].  \n",
    "\n",
    " #Esto evita que los valores de **CPU (0–100)** y **Memoria (en millones de bytes)** estén en escalas muy diferentes, lo cual es esencial para el aprendizaje automático.\n",
    "\n",
    "---"
   ]
  },
  {
   "cell_type": "code",
   "execution_count": 29,
   "id": "079c7de9-616f-43b7-be2c-74839eecd4c6",
   "metadata": {},
   "outputs": [
    {
     "name": "stdout",
     "output_type": "stream",
     "text": [
      "Datos escalados (primeras filas):\n",
      "   cpu_usage_scaled  used_memory_scaled\n",
      "0          0.000109            0.000262\n",
      "1          0.000164            0.000262\n",
      "2          0.000219            0.000299\n",
      "3          0.000164            0.000116\n",
      "4          0.000273            0.000116\n"
     ]
    }
   ],
   "source": [
    "from sklearn.preprocessing import MinMaxScaler\n",
    "\n",
    "# Dataset limpio\n",
    "data = df_clean.copy()\n",
    "\n",
    "# Escalar CPU y Memoria al rango [0,1]\n",
    "scaler = MinMaxScaler()\n",
    "data_scaled = scaler.fit_transform(data[['cpu_usage', 'used_memory']])\n",
    "\n",
    "# Convertir de nuevo a DataFrame\n",
    "df_scaled = pd.DataFrame(data_scaled, columns=['cpu_usage_scaled','used_memory_scaled'])\n",
    "\n",
    "print(\"Datos escalados (primeras filas):\")\n",
    "print(df_scaled.head())\n"
   ]
  },
  {
   "cell_type": "markdown",
   "id": "33892712-1f1e-4f25-8d15-21dc736bc187",
   "metadata": {},
   "source": [
    "#### 🔧 Codificación y transformación de variables\n",
    "\n",
    "En esta etapa se aplicaron técnicas de transformación únicamente a las variables numéricas disponibles:\n",
    "\n",
    "##### 1. Variables numéricas: `cpu_usage` y `used_memory`\n",
    "- Se aplicó **escalado con MinMaxScaler**, transformando los valores al rango [0, 1].  \n",
    "- Justificación:  \n",
    "  - `cpu_usage` se mide en porcentaje (0–100), mientras que `used_memory` está en bytes (millones).  \n",
    "  - Sin escalado, la magnitud de `used_memory` dominaría el entrenamiento.  \n",
    "  - El escalado es esencial para modelos basados en gradiente y redes neuronales como **LSTM**.  \n",
    "\n",
    "##### 📌 Conclusión\n",
    "- **`cpu_usage_scaled`** y **`used_memory_scaled`** son las variables transformadas y listas para la fase de modelado.\n"
   ]
  },
  {
   "cell_type": "markdown",
   "id": "d8de498e-d8d0-4f7a-a677-74a90d804554",
   "metadata": {},
   "source": [
    "#### 📊 Interpretación de correlaciones\n",
    "\n",
    "##### 1. Correlación entre variables\n",
    "- Se observa una correlación positiva **moderada** entre `cpu_usage` y `used_memory` (r ≈ 0.74).  \n",
    "- Esto significa que, en los periodos simulados, cuando aumenta el uso de CPU, también tiende a aumentar el uso de memoria.\n",
    "\n",
    "##### 2. Variables independientes\n",
    "- No existen variables categóricas en este dataset (ej. `State`, `Vehicle type`, `Fuel type`).  \n",
    "- Por tanto, no se analizan correlaciones por aprobación o tipo de vehículo, como en el caso de datasets de tráfico vehicular real.\n",
    "\n",
    "---\n",
    "\n",
    "##### 📌 Conclusiones\n",
    "- La correlación positiva entre CPU y RAM indica que ambos recursos **se incrementan de manera conjunta en escenarios de carga**.  \n",
    "- Este hallazgo es relevante para el modelado predictivo, ya que la saturación de CPU y memoria suele ocurrir de manera combinada.\n"
   ]
  },
  {
   "cell_type": "code",
   "execution_count": 30,
   "id": "c6c290b4-5d15-4282-914d-1b0d141b2ae5",
   "metadata": {},
   "outputs": [
    {
     "data": {
      "image/png": "[encoded data removed]",
      "text/plain": [
       "<Figure size 800x600 with 1 Axes>"
      ]
     },
     "metadata": {},
     "output_type": "display_data"
    }
   ],
   "source": [
    "import matplotlib.pyplot as plt\n",
    "import seaborn as sns\n",
    "\n",
    "plt.figure(figsize=(8,6))\n",
    "sns.regplot(x=\"cpu_usage\", y=\"used_memory\", data=df_clean, scatter_kws={'alpha':0.5}, line_kws={'color':'red'})\n",
    "plt.title(\"Relación entre uso de CPU (%) y memoria usada (bytes)\")\n",
    "plt.xlabel(\"Uso de CPU (%)\")\n",
    "plt.ylabel(\"Memoria usada (bytes)\")\n",
    "plt.show()\n"
   ]
  },
  {
   "cell_type": "code",
   "execution_count": 31,
   "id": "7eae2d23-5ed7-4c3c-9ea7-738c2f296361",
   "metadata": {},
   "outputs": [],
   "source": [
    "# fin del cuaderno ----*-----"
   ]
  },
  {
   "cell_type": "markdown",
   "id": "6cca9c53-035a-4906-8ebe-6afc65192440",
   "metadata": {},
   "source": [
    "# Fin del cuaderno ----*----\n",
    "\n",
    "### 📌 Notas importantes sobre la transformación\n",
    "\n",
    "En la fase anterior ya realizamos la simulación de **data sucia** (inyectando nulos, outliers y duplicados) para mostrar cómo se aplicarían los procesos de limpieza.  \n",
    "👉 Sin embargo, en la **data real de Zabbix** este escenario **no aplica** porque:  \n",
    "- Zabbix genera métricas en tiempo real, continuas y sin valores faltantes.  \n",
    "- No existen categorías como \"Vehicle type\" o \"Fuel type\".  \n",
    "- Tampoco se producen valores nulos por defecto.  \n",
    "\n",
    "Por tanto, los comandos relacionados con detección de **nulos, duplicados o outliers extremos** solo se usaron en el **ejemplo simulado** para evidenciar la metodología, y en la implementación final se **comentarán**.\n",
    "\n",
    "---\n",
    "\n",
    "### 🔧 Otras posibles transformaciones (no aplican en Zabbix, solo en datasets vehiculares)\n",
    "- Agrupar años de vehículo en rangos (ej. <2000, 2000–2010, >2010).  \n",
    "- Variables binarias: ¿tiene revisión técnica vigente?  \n",
    "- Indicadores basados en límites MPL vs. medición real.  \n",
    "\n",
    "En Zabbix esto **no aplica**, ya que no trabajamos con atributos categóricos ni fechas de inspección, sino con **series temporales numéricas (CPU y memoria)**.\n",
    "\n",
    "---\n",
    "\n",
    "### 🔽 Reducción de variables\n",
    "En nuestro caso, solo contamos con dos variables relevantes (`cpu_usage`, `used_memory`), por lo que no es necesario aplicar reducción de dimensionalidad ni eliminar redundancias.\n",
    "\n",
    "---\n",
    "\n",
    "### 🚫 Frecuencias categóricas\n",
    "En datasets vehiculares se calculaban frecuencias para `Vehicle type` y `Fuel type`, pero como en Zabbix no existen variables categóricas, este paso **no aplica** y se comenta.\n",
    "\n",
    "```python\n",
    "# ⚠️ Estos pasos NO aplican en la data de Zabbix\n",
    "# freq_vehicle_type = data['Vehicle type'].value_counts(normalize=True) * 100\n",
    "# freq_vehicle_type.to_frame(\"percentage\")\n",
    "# freq_fuel_type = data['Fuel type'].value_counts(normalize=True) * 100\n",
    "# freq_fuel_type.to_frame(\"percentage\")\n"
   ]
  },
  {
   "cell_type": "code",
   "execution_count": 32,
   "id": "1861a1f3-4792-4e6d-a13c-943a82924eef",
   "metadata": {},
   "outputs": [
    {
     "name": "stdout",
     "output_type": "stream",
     "text": [
      "Dataset limpio guardado como data_clean.csv\n"
     ]
    }
   ],
   "source": [
    "# Guardar dataset limpio (CPU y RAM)\n",
    "df_clean.to_csv(\"data_clean.csv\", index=False)\n",
    "print(\"Dataset limpio guardado como data_clean.csv\")\n",
    "\n",
    "# Si hay versión escalada/transformada\n",
    "# df_scaled.to_csv(\"data_scaled.csv\", index=False)\n",
    "# print(\"Dataset transformado guardado como data_scaled.csv\")\n"
   ]
  },
  {
   "cell_type": "markdown",
   "id": "06ffb3e5-e21e-4823-acbb-e9f9538f58c3",
   "metadata": {},
   "source": [
    "### ✅  6. Data validation (Sesión 4)"
   ]
  },
  {
   "cell_type": "code",
   "execution_count": 33,
   "id": "45e240d9-94f0-4109-bda2-c81d8999e6cb",
   "metadata": {},
   "outputs": [],
   "source": [
    "### Guía autónoma de la sesión 4"
   ]
  },
  {
   "cell_type": "markdown",
   "id": "ee6a61e8-4eb1-4f88-8167-aac416a49f3c",
   "metadata": {},
   "source": [
    "### ✅ 6. Data Validation (Sesión 4)\n",
    "\n",
    "En esta fase validamos que los datos transformados estén en condiciones óptimas para alimentar el modelo LSTM.  \n",
    "Cada equipo debe aplicar exactamente el mismo flujo a su dataset.\n",
    "\n",
    "---\n",
    "\n",
    "#### 🔎 Verificaciones realizadas\n",
    "\n",
    "1. **Formato y tipos de datos**\n",
    "   - `cpu_usage` → float (0–100%).  \n",
    "   - `used_memory` → int64 (bytes).  \n",
    "   ✔️ Correctos y consistentes.\n",
    "\n",
    "2. **Valores faltantes**\n",
    "   - No se encontraron valores nulos en la data real de Zabbix.  \n",
    "   - En la simulación, se inyectaron NaNs para mostrar el flujo de limpieza.  \n",
    "\n",
    "3. **Rangos válidos**\n",
    "   - `cpu_usage`: todos los valores dentro del rango 0–100%.  \n",
    "   - `used_memory`: valores positivos, coherentes con tamaños de memoria.  \n",
    "   - Se eliminaron los registros simulados con RAM negativa o CPU > 100%.\n",
    "\n",
    "4. **Duplicados**\n",
    "   - En los datos simulados se detectaron registros duplicados y fueron eliminados.  \n",
    "   - En los datos de Zabbix no se observaron duplicados reales.\n",
    "\n",
    "5. **Escalado**\n",
    "   - Se aplicó **StandardScaler** para normalizar CPU y RAM a media 0 y varianza 1.  \n",
    "   - Esto asegura compatibilidad con modelos de redes neuronales (LSTM).  \n",
    "\n",
    "---\n",
    "\n",
    "#### 📌 Conclusión de la validación\n",
    "- El dataset final está **limpio, consistente y escalado**.  \n",
    "- Las variables (`cpu_usage`, `used_memory`) se encuentran listas para usarse en la **fase de Modelado**.  \n",
    "- Los pasos de detección de nulos, duplicados y outliers se mantendrán comentados en la implementación final, ya que no aplican en los datos reales de Zabbix.  \n"
   ]
  }
 ],
 "metadata": {
  "kernelspec": {
   "display_name": "Python 3 (ipykernel)",
   "language": "python",
   "name": "python3"
  },
  "language_info": {
   "codemirror_mode": {
    "name": "ipython",
    "version": 3
   },
   "file_extension": ".py",
   "mimetype": "text/x-python",
   "name": "python",
   "nbconvert_exporter": "python",
   "pygments_lexer": "ipython3",
   "version": "3.12.7"
  }
 },
 "nbformat": 4,
 "nbformat_minor": 5
}
