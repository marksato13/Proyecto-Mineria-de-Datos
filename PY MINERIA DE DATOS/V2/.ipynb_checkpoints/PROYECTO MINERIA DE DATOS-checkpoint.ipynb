{
 "cells": [
  {
   "cell_type": "markdown",
   "id": "d254e3af-5f3b-47b7-8f72-797d122e50c3",
   "metadata": {},
   "source": [
    "#                                                          Unidad 1"
   ]
  },
  {
   "cell_type": "markdown",
   "id": "3734c653-c8ef-4f11-b3ed-aae134da84aa",
   "metadata": {},
   "source": [
    "# Proyecto: Minería de Datos para la Automatización del Monitoreo de Infraestructura TI: Un Enfoque Predictivo con Zabbix "
   ]
  },
  {
   "cell_type": "markdown",
   "id": "032c274a-5fb6-4817-bf3b-362cde1f110c",
   "metadata": {},
   "source": [
    "## Metodología: CRISP-DM \n",
    "En este proyecto se aplica la metodología CRISP-DM (Cross Industry Standard Process for Data Mining), la cual establece un proceso estructurado para el desarrollo de proyectos de minería de datos. El flujo que se seguirá en esta primera etapa comprende las fases:\n",
    "\n",
    " → Business Understanding → Data Understanding → Data Preparation  → Modelado (Modeling)\n",
    "\n",
    "##  **Integrantes:**   \n",
    "\n",
    "- Ruben Mark Salazar Tocas\n",
    "- Elias Uziel Sauñe Fernadez\n",
    "  \n",
    "## Fecha del informe: [dd/mm/aaaa]"
   ]
  },
  {
   "cell_type": "markdown",
   "id": "2ce53527-45bb-4bbc-8bb4-c25cf0cfc216",
   "metadata": {},
   "source": [
    "## Fase 1 – Business Understanding (Comprensión del Negocio)"
   ]
  },
  {
   "cell_type": "markdown",
   "id": "41de270e-935f-45a0-806f-332db8ec10b1",
   "metadata": {},
   "source": [
    "### 1.1. Problema de negocio"
   ]
  },
  {
   "cell_type": "code",
   "execution_count": null,
   "id": "353e6b29-7ed5-443c-91c3-c3e9f03fc78a",
   "metadata": {},
   "outputs": [],
   "source": []
  },
  {
   "cell_type": "markdown",
   "id": "c685a6a4-411d-49e3-9bac-920fce870080",
   "metadata": {},
   "source": [
    "### 1.2. Objetivo general"
   ]
  },
  {
   "cell_type": "markdown",
   "id": "d05e97cd-cab1-4dd6-8b53-9f4c83789275",
   "metadata": {},
   "source": [
    "Construir un modelo que prediga si un automóvil estará **APPROVED** (`APPROVED = 1`, `DISAPPROVED = 0`) para circular por las calles de **San Isidro, Lima** usando características del vehículo (sin usar o sin medir datos de emisiones de gases)"
   ]
  },
  {
   "cell_type": "markdown",
   "id": "b539de4e-05ea-4aa5-acce-15ac97ac1124",
   "metadata": {},
   "source": [
    "### 1.5. Criterios de éxito\n"
   ]
  },
  {
   "cell_type": "markdown",
   "id": "0b24cdd0-a4f0-4d3a-ad6c-db2b0aff775a",
   "metadata": {},
   "source": [
    "\n",
    "Técnico:\n",
    "- Alcanzar métricas de predicción satisfactorias (RMSE bajo, MAPE ≤ 10%) en CPU y RAM.\n",
    "\n",
    "- Demostrar que el modelo LSTM supera a enfoques lineales como ARIMA en la gestión de ruido y picos atípicos.\n",
    "\n",
    "De negocio:\n",
    "\n",
    "- Que Zabbix reciba predicciones con al menos 15–30 minutos de anticipación antes de que se produzca una saturación real.\n",
    "\n",
    "- Disminuir el número de falsos positivos en alertas respecto a métodos tradicionales.\n",
    "\n",
    "Social/Operativo:\n",
    "\n",
    "- Contribuir a la continuidad del servicio TI, reduciendo caídas imprevistas y tiempos de inactividad.\n",
    "\n",
    "- Optimizar el uso de recursos humanos y económicos mediante la prevención en lugar de la reacción."
   ]
  },
  {
   "cell_type": "markdown",
   "id": "4d1b2f94-3de4-4de6-a849-fe0edef574f2",
   "metadata": {},
   "source": [
    "## Fase 2. Data Understanding"
   ]
  },
  {
   "cell_type": "markdown",
   "id": "4954cbcf-bd6f-4f91-b4d2-a1fb7e2ff89c",
   "metadata": {},
   "source": [
    "### 📥 2. Data collection "
   ]
  },
  {
   "cell_type": "code",
   "execution_count": 1,
   "id": "ff1f7fd4-cc6a-48d1-ac59-ed911ecc493f",
   "metadata": {},
   "outputs": [
    {
     "ename": "FileNotFoundError",
     "evalue": "[Errno 2] No such file or directory: 'CAMPANADESENSIBILIZACIONRESPIRAAIRELIMPIO_X.xlsx'",
     "output_type": "error",
     "traceback": [
      "\u001b[0;31m---------------------------------------------------------------------------\u001b[0m",
      "\u001b[0;31mFileNotFoundError\u001b[0m                         Traceback (most recent call last)",
      "Cell \u001b[0;32mIn[1], line 11\u001b[0m\n\u001b[1;32m      2\u001b[0m \u001b[38;5;28;01mimport\u001b[39;00m \u001b[38;5;21;01mnumpy\u001b[39;00m \u001b[38;5;28;01mas\u001b[39;00m \u001b[38;5;21;01mnp\u001b[39;00m\n\u001b[1;32m      4\u001b[0m \u001b[38;5;124;03m'''\u001b[39;00m\n\u001b[1;32m      5\u001b[0m \u001b[38;5;124;03mdf_p1 = pd.read_csv(\"in_data_cruda_p1_27072025.csv\", \u001b[39;00m\n\u001b[1;32m      6\u001b[0m \u001b[38;5;124;03m                    encoding='utf-8',      # o 'latin-1' si hay caracteres especiales\u001b[39;00m\n\u001b[0;32m   (...)\u001b[0m\n\u001b[1;32m      9\u001b[0m \u001b[38;5;124;03m                    index_col=None)        # si quieres usar una columna como índice\u001b[39;00m\n\u001b[1;32m     10\u001b[0m \u001b[38;5;124;03m'''\u001b[39;00m\n\u001b[0;32m---> 11\u001b[0m df \u001b[38;5;241m=\u001b[39m pd\u001b[38;5;241m.\u001b[39mread_excel(\u001b[38;5;124m\"\u001b[39m\u001b[38;5;124mCAMPANADESENSIBILIZACIONRESPIRAAIRELIMPIO_X.xlsx\u001b[39m\u001b[38;5;124m\"\u001b[39m)\n",
      "File \u001b[0;32m/opt/conda/lib/python3.12/site-packages/pandas/io/excel/_base.py:495\u001b[0m, in \u001b[0;36mread_excel\u001b[0;34m(io, sheet_name, header, names, index_col, usecols, dtype, engine, converters, true_values, false_values, skiprows, nrows, na_values, keep_default_na, na_filter, verbose, parse_dates, date_parser, date_format, thousands, decimal, comment, skipfooter, storage_options, dtype_backend, engine_kwargs)\u001b[0m\n\u001b[1;32m    493\u001b[0m \u001b[38;5;28;01mif\u001b[39;00m \u001b[38;5;129;01mnot\u001b[39;00m \u001b[38;5;28misinstance\u001b[39m(io, ExcelFile):\n\u001b[1;32m    494\u001b[0m     should_close \u001b[38;5;241m=\u001b[39m \u001b[38;5;28;01mTrue\u001b[39;00m\n\u001b[0;32m--> 495\u001b[0m     io \u001b[38;5;241m=\u001b[39m ExcelFile(\n\u001b[1;32m    496\u001b[0m         io,\n\u001b[1;32m    497\u001b[0m         storage_options\u001b[38;5;241m=\u001b[39mstorage_options,\n\u001b[1;32m    498\u001b[0m         engine\u001b[38;5;241m=\u001b[39mengine,\n\u001b[1;32m    499\u001b[0m         engine_kwargs\u001b[38;5;241m=\u001b[39mengine_kwargs,\n\u001b[1;32m    500\u001b[0m     )\n\u001b[1;32m    501\u001b[0m \u001b[38;5;28;01melif\u001b[39;00m engine \u001b[38;5;129;01mand\u001b[39;00m engine \u001b[38;5;241m!=\u001b[39m io\u001b[38;5;241m.\u001b[39mengine:\n\u001b[1;32m    502\u001b[0m     \u001b[38;5;28;01mraise\u001b[39;00m \u001b[38;5;167;01mValueError\u001b[39;00m(\n\u001b[1;32m    503\u001b[0m         \u001b[38;5;124m\"\u001b[39m\u001b[38;5;124mEngine should not be specified when passing \u001b[39m\u001b[38;5;124m\"\u001b[39m\n\u001b[1;32m    504\u001b[0m         \u001b[38;5;124m\"\u001b[39m\u001b[38;5;124man ExcelFile - ExcelFile already has the engine set\u001b[39m\u001b[38;5;124m\"\u001b[39m\n\u001b[1;32m    505\u001b[0m     )\n",
      "File \u001b[0;32m/opt/conda/lib/python3.12/site-packages/pandas/io/excel/_base.py:1550\u001b[0m, in \u001b[0;36mExcelFile.__init__\u001b[0;34m(self, path_or_buffer, engine, storage_options, engine_kwargs)\u001b[0m\n\u001b[1;32m   1548\u001b[0m     ext \u001b[38;5;241m=\u001b[39m \u001b[38;5;124m\"\u001b[39m\u001b[38;5;124mxls\u001b[39m\u001b[38;5;124m\"\u001b[39m\n\u001b[1;32m   1549\u001b[0m \u001b[38;5;28;01melse\u001b[39;00m:\n\u001b[0;32m-> 1550\u001b[0m     ext \u001b[38;5;241m=\u001b[39m inspect_excel_format(\n\u001b[1;32m   1551\u001b[0m         content_or_path\u001b[38;5;241m=\u001b[39mpath_or_buffer, storage_options\u001b[38;5;241m=\u001b[39mstorage_options\n\u001b[1;32m   1552\u001b[0m     )\n\u001b[1;32m   1553\u001b[0m     \u001b[38;5;28;01mif\u001b[39;00m ext \u001b[38;5;129;01mis\u001b[39;00m \u001b[38;5;28;01mNone\u001b[39;00m:\n\u001b[1;32m   1554\u001b[0m         \u001b[38;5;28;01mraise\u001b[39;00m \u001b[38;5;167;01mValueError\u001b[39;00m(\n\u001b[1;32m   1555\u001b[0m             \u001b[38;5;124m\"\u001b[39m\u001b[38;5;124mExcel file format cannot be determined, you must specify \u001b[39m\u001b[38;5;124m\"\u001b[39m\n\u001b[1;32m   1556\u001b[0m             \u001b[38;5;124m\"\u001b[39m\u001b[38;5;124man engine manually.\u001b[39m\u001b[38;5;124m\"\u001b[39m\n\u001b[1;32m   1557\u001b[0m         )\n",
      "File \u001b[0;32m/opt/conda/lib/python3.12/site-packages/pandas/io/excel/_base.py:1402\u001b[0m, in \u001b[0;36minspect_excel_format\u001b[0;34m(content_or_path, storage_options)\u001b[0m\n\u001b[1;32m   1399\u001b[0m \u001b[38;5;28;01mif\u001b[39;00m \u001b[38;5;28misinstance\u001b[39m(content_or_path, \u001b[38;5;28mbytes\u001b[39m):\n\u001b[1;32m   1400\u001b[0m     content_or_path \u001b[38;5;241m=\u001b[39m BytesIO(content_or_path)\n\u001b[0;32m-> 1402\u001b[0m \u001b[38;5;28;01mwith\u001b[39;00m get_handle(\n\u001b[1;32m   1403\u001b[0m     content_or_path, \u001b[38;5;124m\"\u001b[39m\u001b[38;5;124mrb\u001b[39m\u001b[38;5;124m\"\u001b[39m, storage_options\u001b[38;5;241m=\u001b[39mstorage_options, is_text\u001b[38;5;241m=\u001b[39m\u001b[38;5;28;01mFalse\u001b[39;00m\n\u001b[1;32m   1404\u001b[0m ) \u001b[38;5;28;01mas\u001b[39;00m handle:\n\u001b[1;32m   1405\u001b[0m     stream \u001b[38;5;241m=\u001b[39m handle\u001b[38;5;241m.\u001b[39mhandle\n\u001b[1;32m   1406\u001b[0m     stream\u001b[38;5;241m.\u001b[39mseek(\u001b[38;5;241m0\u001b[39m)\n",
      "File \u001b[0;32m/opt/conda/lib/python3.12/site-packages/pandas/io/common.py:882\u001b[0m, in \u001b[0;36mget_handle\u001b[0;34m(path_or_buf, mode, encoding, compression, memory_map, is_text, errors, storage_options)\u001b[0m\n\u001b[1;32m    873\u001b[0m         handle \u001b[38;5;241m=\u001b[39m \u001b[38;5;28mopen\u001b[39m(\n\u001b[1;32m    874\u001b[0m             handle,\n\u001b[1;32m    875\u001b[0m             ioargs\u001b[38;5;241m.\u001b[39mmode,\n\u001b[0;32m   (...)\u001b[0m\n\u001b[1;32m    878\u001b[0m             newline\u001b[38;5;241m=\u001b[39m\u001b[38;5;124m\"\u001b[39m\u001b[38;5;124m\"\u001b[39m,\n\u001b[1;32m    879\u001b[0m         )\n\u001b[1;32m    880\u001b[0m     \u001b[38;5;28;01melse\u001b[39;00m:\n\u001b[1;32m    881\u001b[0m         \u001b[38;5;66;03m# Binary mode\u001b[39;00m\n\u001b[0;32m--> 882\u001b[0m         handle \u001b[38;5;241m=\u001b[39m \u001b[38;5;28mopen\u001b[39m(handle, ioargs\u001b[38;5;241m.\u001b[39mmode)\n\u001b[1;32m    883\u001b[0m     handles\u001b[38;5;241m.\u001b[39mappend(handle)\n\u001b[1;32m    885\u001b[0m \u001b[38;5;66;03m# Convert BytesIO or file objects passed with an encoding\u001b[39;00m\n",
      "\u001b[0;31mFileNotFoundError\u001b[0m: [Errno 2] No such file or directory: 'CAMPANADESENSIBILIZACIONRESPIRAAIRELIMPIO_X.xlsx'"
     ]
    }
   ],
   "source": [
    "import pandas as pd\n",
    "import numpy as np\n",
    "\n",
    "'''\n",
    "df_p1 = pd.read_csv(\"in_data_cruda_p1_27072025.csv\", \n",
    "                    encoding='utf-8',      # o 'latin-1' si hay caracteres especiales\n",
    "                    sep=';',               # separador (por defecto es coma)\n",
    "                    header=0,              # fila que contiene los nombres de columnas\n",
    "                    index_col=None)        # si quieres usar una columna como índice\n",
    "'''\n",
    "df = pd.read_excel(\"CAMPANADESENSIBILIZACIONRESPIRAAIRELIMPIO_X.xlsx\")\n"
   ]
  },
  {
   "cell_type": "code",
   "execution_count": null,
   "id": "6f05f347-77f6-40e2-951b-1f6e96c6e7bc",
   "metadata": {},
   "outputs": [],
   "source": [
    "# Resumen general\n",
    "df.info()\n",
    "print('df.columns:',df.columns)\n",
    "print('df.shape:',df.shape)\n",
    "df.head(10)"
   ]
  },
  {
   "cell_type": "markdown",
   "id": "9bf27ef4-af22-4196-92b9-f9e0faf5dbdb",
   "metadata": {},
   "source": [
    "### 📊 3. Descriptive analysis"
   ]
  },
  {
   "cell_type": "markdown",
   "id": "0eb96d9c-a58b-4945-9507-3c24cbd2ddc3",
   "metadata": {},
   "source": [
    "#### 3.1 Análisis descriptivo"
   ]
  },
  {
   "cell_type": "code",
   "execution_count": null,
   "id": "a8d41f82-b364-44d6-a89b-8db0378ba210",
   "metadata": {},
   "outputs": [],
   "source": [
    "#Resumen estadístico de todas las variables (describe()).\n",
    "df.describe(include=\"all\").T # incluye categóricas y numéricas"
   ]
  },
  {
   "cell_type": "code",
   "execution_count": null,
   "id": "e5b0663c-080e-463e-bb0d-4fa253bc4ad9",
   "metadata": {},
   "outputs": [],
   "source": [
    "# Separar los datos segú sus Tipos de variables (numéricas, categóricas). fechas se considera como cat aunque también puedes separr\n",
    "numeric_data = df.select_dtypes(include=[np.number])\n",
    "categor_data = df.select_dtypes(exclude=[np.number])\n",
    "print (\"There are {} numeric and {} categorical columns in train data\".format(numeric_data.shape[1],categor_data.shape[1]))"
   ]
  },
  {
   "cell_type": "code",
   "execution_count": null,
   "id": "7e909f89-b530-4b1d-841a-ee3798451f8f",
   "metadata": {},
   "outputs": [],
   "source": [
    "numeric_data.describe().T\n",
    "# Puedes ver la Distribución de variables numéricas (cantidad o freq, media, mediana, desviación estándar, mín, máx. etc.)."
   ]
  },
  {
   "cell_type": "code",
   "execution_count": null,
   "id": "5bc5383a-357b-4562-96b4-fdb192796604",
   "metadata": {},
   "outputs": [],
   "source": [
    "categor_data.describe(include=\"all\").T\n",
    "# Puedes ver valores únicos en categóricas (ej. State, Vehicle type, Fuel type), freq, etc."
   ]
  },
  {
   "cell_type": "code",
   "execution_count": null,
   "id": "89ad39c5-32fe-4920-b2cd-e5119ea6d5b4",
   "metadata": {},
   "outputs": [],
   "source": [
    "# Conteo de valores únicos en categóricas\n",
    "for col in ['Intervention type','Vehicle type','Fuel type','State']:\n",
    "    print(f\"\\n{col}:\\n\", df[col].value_counts())\n",
    "\n",
    "# Conteo de la variable objetivo, \n",
    "df[\"State\"].value_counts()"
   ]
  },
  {
   "cell_type": "markdown",
   "id": "5794efc1-ecb6-422b-a64c-150a46acf637",
   "metadata": {
    "jp-MarkdownHeadingCollapsed": true
   },
   "source": [
    "#### 3.2 Análisis descriptivo (gráficos)"
   ]
  },
  {
   "cell_type": "code",
   "execution_count": null,
   "id": "ccd28169-8733-444d-a4b8-b374b3ce662f",
   "metadata": {},
   "outputs": [],
   "source": [
    "import matplotlib.pyplot as plt\n",
    "import seaborn as sns\n",
    "\n",
    "# Histograma de año de vehículo\n",
    "plt.figure(figsize=(8,5))\n",
    "sns.histplot(df['Vehicle year'], bins=30, kde=True)\n",
    "plt.title(\"Distribución del año de fabricación\")\n",
    "plt.show()\n",
    "\n",
    "# Boxplot de edad de vehículo por estado\n",
    "plt.figure(figsize=(6,5))\n",
    "sns.boxplot(x='State', y='Vehicle age', data=df)\n",
    "plt.title(\"Edad del vehículo vs Estado\")\n",
    "plt.show()\n",
    "\n",
    "# Conteo de combustible\n",
    "plt.figure(figsize=(6,4))\n",
    "sns.countplot(data=df, x='Fuel type', order=df['Fuel type'].value_counts().index)\n",
    "plt.title(\"Distribución por tipo de combustible\")\n",
    "plt.xticks(rotation=45)\n",
    "plt.show()\n"
   ]
  },
  {
   "cell_type": "markdown",
   "id": "8f2a1a03-b8df-48e0-9c34-a86250b70933",
   "metadata": {
    "jp-MarkdownHeadingCollapsed": true
   },
   "source": [
    "#### 3.3 Análisis exploratorio (con estadísticas): Correlaciones y cruces de variables"
   ]
  },
  {
   "cell_type": "code",
   "execution_count": null,
   "id": "45889029-7a68-4861-9385-829c0e2b249a",
   "metadata": {},
   "outputs": [],
   "source": [
    "# Correlaciones numéricas\n",
    "plt.figure(figsize=(10,8))\n",
    "sns.heatmap(df.corr(numeric_only=True), annot=True, cmap='coolwarm', fmt=\".2f\")\n",
    "plt.title(\"Matriz de correlaciones\")\n",
    "plt.show()\n",
    "\n",
    "# Cruce de variables categóricas con el objetivo\n",
    "pd.crosstab(df['Fuel type'], df['State'], normalize='index') * 100\n"
   ]
  },
  {
   "cell_type": "markdown",
   "id": "8bce94d6-df0b-4e03-a1f5-e0245c987563",
   "metadata": {
    "jp-MarkdownHeadingCollapsed": true
   },
   "source": [
    "#### 3.4 Diagnóstico de calidad inicial "
   ]
  },
  {
   "cell_type": "code",
   "execution_count": null,
   "id": "448564bb-63f6-4169-894d-7d9c67746e94",
   "metadata": {},
   "outputs": [],
   "source": [
    "# Valores faltantes\n",
    "print(df.isnull().sum())\n",
    "\n",
    "# Posibles inconsistencias\n",
    "print(\"Mínimo y máximo año:\", df['Vehicle year'].min(), df['Vehicle year'].max())\n",
    "print(\"Mínimo y máximo edad:\", df['Vehicle age'].min(), df['Vehicle age'].max())\n",
    "\n",
    "# Distribución de la variable objetivo\n",
    "sns.countplot(x='State', data=df)\n",
    "plt.title(\"Distribución del estado (Approved vs Disapproved)\")\n",
    "plt.show()\n"
   ]
  },
  {
   "cell_type": "code",
   "execution_count": null,
   "id": "3bc4be6b-1edf-4b19-8f6a-c3e09e96cf6e",
   "metadata": {},
   "outputs": [],
   "source": [
    "'''\n",
    "Valores faltantes: identificar y cuantificar (df.isnull().sum()).\n",
    "Posibles inconsistencias :\n",
    "    Años fuera de rango (ej. vehículos con Vehicle year futuro).\n",
    "    Edades negativas o mayores a 50 años.\n",
    "Distribución de la variable objetivo (State): revisar balance entre APPROVED y DISAPPROVED.\n",
    "'''\n",
    "na_counts = df.isna().sum().sort_values(ascending=False)\n",
    "na_pct = (na_counts/len(df)*100).round(2)\n",
    "quality_missing = pd.DataFrame({'missing': na_counts, 'missing_%': na_pct})\n",
    "display(quality_missing)\n",
    "\n",
    "df['_Date_dt'] = pd.to_datetime(df['Date'], errors='coerce', dayfirst=True)\n",
    "dup_keys = df.duplicated(subset=['Vehicle plate','_Date_dt'])\n",
    "print('Registros potencialmente duplicados:', dup_keys.sum())\n",
    "\n",
    "suspects = df[(df['CO2 percVol']>25) | (df['CO percVol']>12.5) | (df['HC ppm']>5000)]\n",
    "print('Registros sospechosos (CO2>25% o CO>12.5% o HC>5000):', len(suspects))\n",
    "display(suspects[['Date','Vehicle plate','CO percVol','HC ppm','CO2 percVol','State']].head())\n"
   ]
  },
  {
   "cell_type": "markdown",
   "id": "e6043a89-d53c-404c-9927-092b77c543e6",
   "metadata": {
    "jp-MarkdownHeadingCollapsed": true
   },
   "source": [
    "#### 3.5 Perfil estadístico comparativo (Aprobados vs Desaprobados)"
   ]
  },
  {
   "cell_type": "code",
   "execution_count": null,
   "id": "7470ce6a-eb29-4b9b-846d-ebb5b552ff53",
   "metadata": {},
   "outputs": [],
   "source": [
    "# Medias comparativas numéricas\n",
    "df.groupby('State').mean(numeric_only=True)"
   ]
  },
  {
   "cell_type": "code",
   "execution_count": null,
   "id": "14deadc1-09ae-4ae4-a20d-31854056160b",
   "metadata": {},
   "outputs": [],
   "source": [
    "# Comparación gráfica de variables numéricas\n",
    "plt.figure(figsize=(8,5))\n",
    "sns.histplot(data=df, x='Vehicle age', hue='State', kde=True, bins=30)\n",
    "plt.title(\"Edad del vehículo según estado\")\n",
    "plt.show()"
   ]
  },
  {
   "cell_type": "code",
   "execution_count": null,
   "id": "ae9e2377-28d8-4a94-a85b-df20ee823513",
   "metadata": {},
   "outputs": [],
   "source": [
    "perfil_num = df.groupby('State')[['Vehicle age','CO percVol','HC ppm','CO2 percVol']]\n",
    "perfil_num = perfil_num.agg(['mean','median','std','min','max']).round(3)\n",
    "display(perfil_num)\n",
    "\n",
    "perfil_cat_fuel = pd.crosstab(df['Fuel type'], df['State'], normalize='columns')*100\n",
    "perfil_cat_type = pd.crosstab(df['Vehicle type'], df['State'], normalize='columns')*100\n",
    "display(perfil_cat_fuel.round(2))\n",
    "display(perfil_cat_type.round(2))\n",
    "\n",
    "perfil_num.to_csv('perfil_numerico_por_estado.csv')\n",
    "perfil_cat_fuel.to_csv('perfil_combustible_por_estado.csv')\n",
    "perfil_cat_type.to_csv('perfil_tipovehiculo_por_estado.csv')\n",
    "print('Archivos CSV exportados.')"
   ]
  },
  {
   "cell_type": "markdown",
   "id": "7663555e-3a0f-454c-b594-b7127fc3d78b",
   "metadata": {
    "jp-MarkdownHeadingCollapsed": true
   },
   "source": [
    "### 3.6 Hallazgos"
   ]
  },
  {
   "cell_type": "markdown",
   "id": "d787074a-878e-43e7-89da-4a21186dd9ae",
   "metadata": {
    "jp-MarkdownHeadingCollapsed": true
   },
   "source": [
    "#### Hallazgos del Paso 3: Descriptive analysis\n",
    "\n",
    "##### 1. Distribución general del dataset\n",
    "- El conjunto de datos contiene **1674 registros** y **24 variables**.  \n",
    "- Hay variables categóricas (tipo de vehículo, tipo de combustible, estado de aprobación) y numéricas (año, edad, emisiones, etc.).\n",
    "- Identificación administrativa:\n",
    "\n",
    "    `Date`, `Place`, `Location code`, `Intervention type`, `Vehicle plate` → no aportan valor predictivo (son metadatos).\n",
    "\n",
    "- Resultados de inspecciones técnicas:\n",
    "\n",
    "    VTI, VTI Center, VTI Last date, VTI Since last inspection → dependen de inspecciones previas, podrían sesgar.\n",
    "\n",
    "- Variables de gases contaminantes (NO USAR) porque, son post-variables (es decir, solo se conocen después de la inspección, como los gases medidos CO percVol, HC ppm), y porque el objetivo es no depender de emisiones.  \n",
    "\n",
    "    VTI CO percVol, VTI HC ppm, VTI CO+CO2 min perc\n",
    "    \n",
    "    MPL CO percVol, MPL HC ppm, MPL CO+CO2 min perc\n",
    "    \n",
    "    CO percVol, HC ppm, CO+CO2 min perc, CO2 percVol\n",
    "\n",
    "- Conjunto de variables finales\n",
    "  \n",
    "        X (predictoras) = [Vehicle type, Fuel type, Vehicle year, Vehicle age]\n",
    "        y (objetivo) = [State]\n",
    "\n",
    "##### 2. Variables categóricas principales\n",
    "- **Tipo de vehículo**: aparecen varias categorías, con predominancia de autos livianos y camionetas.  \n",
    "- **Tipo de combustible**: predominan vehículos a gasolina, seguidos de diésel; hay pocos registros de híbridos o gas.  \n",
    "- **Estado (`State`)**:  \n",
    "  - **52.1% desaprobados**  \n",
    "  - **47.9% aprobados**  \n",
    "  👉 La distribución está **relativamente balanceada**, lo que es positivo para el modelado.\n",
    "\n",
    "##### 3. Variables numéricas\n",
    "- **Año de vehículo**: varía entre **1972 y 2017**.  \n",
    "- **Edad del vehículo**: oscila entre **0 y 45 años**.  \n",
    "  - Se observan valores razonables, aunque hay presencia de autos bastante antiguos (más de 30 años).  \n",
    "\n",
    "##### 4. Valores faltantes\n",
    "- Algunas columnas presentan valores nulos, sobre todo en datos de inspecciones técnicas (`VTI`, `MPL`, etc.).  \n",
    "- Esto deberá considerarse en la **fase de limpieza (Data Preparation)**.\n",
    "\n",
    "##### 5. Correlaciones\n",
    "- Existe correlación negativa esperada entre **`Vehicle year`** y **`Vehicle age`** (a mayor año, menor edad).  \n",
    "- Variables de emisiones (`CO`, `HC`, `CO+CO2`) muestran correlaciones entre sí, lo cual indica redundancia.  \n",
    "- La variable objetivo `State` no aparece en la matriz (es categórica), pero en el análisis comparativo se observa que **vehículos más antiguos y con mayor edad tienden a desaprobar**.\n",
    "\n",
    "#### 6. Perfil comparativo Approved vs Disapproved\n",
    "- Los **vehículos aprobados** en promedio son **más nuevos y con menor edad**.  \n",
    "- En los **desaprobados** predominan autos con mayor antigüedad y más asociados a combustibles como el diésel.  \n",
    "- Esto sugiere que **la edad del vehículo y el tipo de combustible son variables clave predictoras**.\n"
   ]
  },
  {
   "cell_type": "markdown",
   "id": "2674996d-a262-4e0e-8e5b-8ad33addad36",
   "metadata": {},
   "source": [
    "## Fase 3. Data Preparation"
   ]
  },
  {
   "cell_type": "markdown",
   "id": "31aa26b3-891c-4998-aa5d-5b153a98f3dc",
   "metadata": {},
   "source": [
    "### 🧹 4. Data cleaning"
   ]
  },
  {
   "cell_type": "markdown",
   "id": "2962f0a4-511c-4e75-8c3c-e5382ad8f2e6",
   "metadata": {},
   "source": [
    "#### 4.1 Selección inicial de variables claves"
   ]
  },
  {
   "cell_type": "markdown",
   "id": "fd9a0a1f-bd6d-445f-8cff-5edbe31c85c2",
   "metadata": {},
   "source": [
    "Queremos construir un modelo que prediga si un vehículo será APPROVED (1) o DISAPPROVED (0) sin usar mediciones de gases contaminantes.\n",
    "Por lo tanto, debemos excluir columnas de emisiones directas y quedarnos solo con las características intrínsecas del vehículo."
   ]
  },
  {
   "cell_type": "markdown",
   "id": "9998b9f2-5e60-44f6-8f00-f3516530aa46",
   "metadata": {},
   "source": [
    "\n",
    "##### a) Candidatas a **ELIMINAR** (irrelevantes o con riesgo de *leakage*)\n",
    "- **Metadatos / administrativos**:  \n",
    "  `Date`, `Place`, `Location code`, `Intervention type`, `Vehicle plate`, `Vehicle year`\n",
    "- **Historial de inspecciones técnicas (depende de resultados previos)**:  \n",
    "  `VTI`, `VTI Center`, `VTI Last date`, `VTI Since last inspection`\n",
    "- **Mediciones de emisiones (NO usar por lineamiento del proyecto)**:  \n",
    "  `VTI CO percVol`, `VTI HC ppm`, `VTI CO+CO2 min perc`,  \n",
    "  `MPL CO percVol`, `MPL HC ppm`, `MPL CO+CO2 min perc`,  \n",
    "  `CO percVol`, `HC ppm`, `CO+CO2 min perc`, `CO2 percVol`\n",
    "\n",
    "> *Motivo:* No aportan al objetivo de predecir aprobación usando **solo características del vehículo** y pueden introducir *data leakage*.\n",
    "\n",
    "##### b) Candidatas a **CONSERVAR** (predictores)\n",
    "- `Vehicle type`  \n",
    "- `Fuel type`  \n",
    "-   \n",
    "- `Vehicle age`  \n",
    "\n",
    "**Variable objetivo:** `State` (APPROVED/DISAPPROVED)\n",
    "\n",
    "---\n",
    "\n"
   ]
  },
  {
   "cell_type": "code",
   "execution_count": null,
   "id": "3cdba4ed-56ab-4d78-a9fa-5419efd3d896",
   "metadata": {},
   "outputs": [],
   "source": [
    "# Conservar solo variables relevantes + objetivo\n",
    "features_keep = [\"Vehicle type\", \"Fuel type\", \"Vehicle age\"]\n",
    "target = [\"State\"]\n",
    "\n",
    "df_sel = df[features_keep+target]\n",
    "\n",
    "print(\"df_sel.shape:\", df_sel.shape)\n",
    "print(\"df_sel.columns:\", df_sel.columns.tolist())\n",
    "df_sel.head(3)"
   ]
  },
  {
   "cell_type": "code",
   "execution_count": null,
   "id": "79c55462-49a2-46e8-a047-0e35a92ec5dd",
   "metadata": {},
   "outputs": [],
   "source": [
    "# 1. Revisar duplicados (en todo el registro de estas columnas)\n",
    "duplicates_count = df_sel.duplicated().sum()\n",
    "# df_sel = df_sel.drop_duplicates()\n",
    "duplicates_count"
   ]
  },
  {
   "cell_type": "code",
   "execution_count": null,
   "id": "5d81f0fc-e3c8-4d0f-a14a-2b86c437b2ab",
   "metadata": {},
   "outputs": [],
   "source": [
    "# 2. Revisar outliers en Vehicle age\n",
    "age_summary = df_sel['Vehicle age'].describe()\n",
    "outliers_high = df_sel[df_sel['Vehicle age'] > 50].shape[0]\n",
    "outliers_low = df_sel[df_sel['Vehicle age'] < 0].shape[0]\n",
    "outliers_high, outliers_low\n"
   ]
  },
  {
   "cell_type": "code",
   "execution_count": null,
   "id": "fcbc89d6-07cd-4ec5-b176-3172449c5cd8",
   "metadata": {},
   "outputs": [],
   "source": [
    "# 3. Revisar valores faltantes\n",
    "df_sel.isnull().sum()"
   ]
  },
  {
   "cell_type": "code",
   "execution_count": null,
   "id": "5b8e5f1b-7a79-4603-ae24-9d726c536925",
   "metadata": {},
   "outputs": [],
   "source": [
    "#porcentaje de valores null por columna\n",
    "miss = (df_sel.isnull().sum() / len(df_sel))*100\n",
    "miss.sort_values(inplace=True)\n",
    "miss"
   ]
  },
  {
   "cell_type": "code",
   "execution_count": null,
   "id": "926bbe21-f0ef-48f9-afa9-cca0a5451b73",
   "metadata": {},
   "outputs": [],
   "source": [
    "df_sel"
   ]
  },
  {
   "cell_type": "code",
   "execution_count": null,
   "id": "47095471-c5fc-4a3a-a68b-6767a8649440",
   "metadata": {},
   "outputs": [],
   "source": [
    "#Eliminar los valores nulos, este paso no es necesario\n",
    "df_clean = df_sel.dropna()\n",
    "print('df_sel.shape:',df_sel.shape)\n",
    "print('df_clean.shape:',df_clean.shape)"
   ]
  },
  {
   "cell_type": "code",
   "execution_count": null,
   "id": "7dbfbb0c-0a22-4844-a779-cb98c2b56002",
   "metadata": {},
   "outputs": [],
   "source": [
    "# \n",
    "df_clean.describe()"
   ]
  },
  {
   "cell_type": "code",
   "execution_count": null,
   "id": "9475c4e2-5097-4e0a-8a81-3637ab4fcd11",
   "metadata": {},
   "outputs": [],
   "source": [
    "df_clean.info()\n"
   ]
  },
  {
   "cell_type": "code",
   "execution_count": null,
   "id": "0dd96d7d-4f02-43cf-932e-18393c4c55b7",
   "metadata": {},
   "outputs": [],
   "source": [
    "#separate variables into new data frames\n",
    "\n",
    "numeric_data = df_clean.select_dtypes(include=[np.number])\n",
    "categor_data = df_clean.select_dtypes(exclude=[np.number])\n",
    "print (\"There are {} numeric and {} categorical columns in train data\".format(numeric_data.shape[1],categor_data.shape[1]))"
   ]
  },
  {
   "cell_type": "code",
   "execution_count": null,
   "id": "fbcafe8f-7480-4769-870a-b9323f6cd834",
   "metadata": {},
   "outputs": [],
   "source": [
    "numeric_data.describe()"
   ]
  },
  {
   "cell_type": "code",
   "execution_count": null,
   "id": "d5adce3f-26ed-4b8e-84c8-7a81348b6479",
   "metadata": {},
   "outputs": [],
   "source": [
    "#correlation plot\n",
    "corr = numeric_data.corr()\n",
    "sns.heatmap(corr, annot=True)"
   ]
  },
  {
   "cell_type": "code",
   "execution_count": null,
   "id": "b3458438-6454-4163-be9c-243c6ea164de",
   "metadata": {},
   "outputs": [],
   "source": [
    "categor_data.describe()"
   ]
  },
  {
   "cell_type": "code",
   "execution_count": null,
   "id": "c7e12f33-db46-4efc-9087-105bb7cf6abb",
   "metadata": {},
   "outputs": [],
   "source": [
    "print('numeric_data.columns:',numeric_data.columns)\n",
    "print('categor_data.columns:',categor_data.columns)"
   ]
  },
  {
   "cell_type": "markdown",
   "id": "451748ae-97ec-4efa-886b-35e1ef05c0c7",
   "metadata": {},
   "source": [
    "### 🧹 5. Data transformation"
   ]
  },
  {
   "cell_type": "code",
   "execution_count": null,
   "id": "0c39b198-1aee-4e94-992d-a7d01e644ea7",
   "metadata": {},
   "outputs": [],
   "source": [
    "data=df_clean"
   ]
  },
  {
   "cell_type": "code",
   "execution_count": null,
   "id": "9bcc92ae-ca98-4a0c-9b87-ad7c5c35d7c1",
   "metadata": {},
   "outputs": [],
   "source": [
    "# 1. Codificar variable objetivo con Label Encoding para codificación binaria\n",
    "data['State_i'] = data['State'].map({'APPROVED': 1, 'DISAPPROVED': 0}) # Variable objetivo (binaria):\n",
    "data"
   ]
  },
  {
   "cell_type": "code",
   "execution_count": null,
   "id": "738b1d9f-5f66-4dee-bf85-86c6d82db49d",
   "metadata": {},
   "outputs": [],
   "source": [
    "# One-Hot Encoding\n",
    "    # Vehicle type → columnas Type_*\n",
    "    # Fuel type → columnas Fuel_*\n",
    "    \n",
    "data_encoded = pd.get_dummies(data, columns=['Vehicle type','Fuel type'], prefix=['Type','Fuel'])\n",
    "data_encoded"
   ]
  },
  {
   "cell_type": "code",
   "execution_count": null,
   "id": "79c3ffa7-c1ee-4418-b275-2fce6f8cd21e",
   "metadata": {},
   "outputs": [],
   "source": [
    "# Escalado de variable numérica (Vehicle age):\n",
    "#  Podemos usar StandardScaler (media=0, sd=1) o MinMaxScaler (0–1).\n",
    "from sklearn.preprocessing import StandardScaler\n",
    "\n",
    "scaler = StandardScaler()\n",
    "data_encoded['Vehicle_age_scaled'] = scaler.fit_transform(data_encoded[['Vehicle age']])\n",
    "data_encoded\n"
   ]
  },
  {
   "cell_type": "code",
   "execution_count": null,
   "id": "883e7cef-f5e5-4bcf-96b5-e86ce71f4330",
   "metadata": {},
   "outputs": [],
   "source": [
    "# Seleccionar columnas transformadas\n",
    "cols_show = ['State_i', 'Vehicle_age_scaled'] + \\\n",
    "             [col for col in data_encoded.columns if col.startswith('Type_') or col.startswith('Fuel_')]\n",
    "\n",
    "data_encoded[cols_show].head()"
   ]
  },
  {
   "cell_type": "code",
   "execution_count": null,
   "id": "9a21aa9a-dd5b-4a28-bdab-c54ca8956b04",
   "metadata": {},
   "outputs": [],
   "source": [
    "# Seleccionar para guardar\n",
    "print('features_keep:',features_keep)\n",
    "print('target:',target)\n",
    "# features_keep = [\"Vehicle type\", \"Fuel type\", \"Vehicle age\"]\n",
    "# target = [\"State\"]\n",
    "\n",
    "data=data[features_keep+target]\n",
    "data"
   ]
  },
  {
   "cell_type": "code",
   "execution_count": null,
   "id": "079c7de9-616f-43b7-be2c-74839eecd4c6",
   "metadata": {},
   "outputs": [],
   "source": []
  },
  {
   "cell_type": "markdown",
   "id": "33892712-1f1e-4f25-8d15-21dc736bc187",
   "metadata": {},
   "source": [
    "#### 🔧 Codificación y transformación de variables\n",
    "\n",
    "En esta etapa se definieron las técnicas adecuadas de transformación para las variables explicativas y el objetivo:\n",
    "\n",
    "##### 1. Variable objetivo: `State`\n",
    "- Se aplicó **codificación binaria**:  \n",
    "  - `APPROVED = 1`  \n",
    "  - `DISAPPROVED = 0`  \n",
    "- Justificación: el objetivo es un problema de clasificación binaria, por lo que esta representación es la más directa y eficiente.\n",
    "\n",
    "---\n",
    "\n",
    "##### 2. Variables categóricas: `Vehicle type` y `Fuel type`\n",
    "- Se utilizó **One-Hot Encoding**, creando columnas binarias para cada categoría.  \n",
    "- Justificación:  \n",
    "  - Estas variables no tienen un orden intrínseco (no son ordinales).  \n",
    "  - **Label Encoding** introduciría un orden artificial que puede sesgar los modelos lineales.  \n",
    "  - **Ordinal Encoding** no aplica porque no existe jerarquía natural entre tipos de vehículo o combustible.  \n",
    "  - **One-Hot** es más adecuado, dado que el número de categorías es pequeño y controlado, evitando explosión de dimensionalidad.\n",
    "\n",
    "---\n",
    "\n",
    "##### 3. Variable numérica: `Vehicle age`\n",
    "- Se mantuvo la variable original y además se creó una versión **escalada con StandardScaler**.  \n",
    "- Justificación:  \n",
    "  - Algunos algoritmos (regresión logística, SVM, redes neuronales) se benefician del escalado.  \n",
    "  - Para modelos basados en árboles (Decision Tree, Random Forest, Gradient Boosting) no es estrictamente necesario, pero no afecta negativamente.  \n",
    "  - Conservar ambas versiones permite flexibilidad en la fase de modelado.\n",
    "\n",
    "---\n",
    "\n",
    "##### 📌 Conclusión\n",
    "- **`State` → Binaria (0/1).**  \n",
    "- **`Vehicle type`, `Fuel type` → One-Hot Encoding.**  \n",
    "- **`Vehicle age` → Original + Escalada.**\n",
    "\n",
    "De esta forma, todas las variables quedan listas para alimentar los modelos de Machine Learning sin introducir sesgos por codificación inapropiada.\n",
    "\n"
   ]
  },
  {
   "cell_type": "code",
   "execution_count": null,
   "id": "170656a2-fca6-4ab7-846a-f7f733110642",
   "metadata": {},
   "outputs": [],
   "source": [
    "# Calcular correlaciones de todas las variables numéricas con respecto a State_i\n",
    "corr_vars = data_encoded.drop(columns=['State']).corr()\n",
    "corr_vars\n"
   ]
  },
  {
   "cell_type": "code",
   "execution_count": null,
   "id": "08642fa2-269a-4302-b49e-cee296224215",
   "metadata": {},
   "outputs": [],
   "source": [
    "# Ordenar las correlaciones con respecto a State_i\n",
    "corr_with_target = corr_vars['State_i'].sort_values(ascending=False)\n",
    "\n",
    "corr_with_target"
   ]
  },
  {
   "cell_type": "markdown",
   "id": "d8de498e-d8d0-4f7a-a677-74a90d804554",
   "metadata": {},
   "source": [
    "#### 📊 Interpretación de correlaciones\n",
    "\n",
    "##### 1. Variables con correlación positiva (mayor probabilidad de aprobación)\n",
    "- **`Type_PRIVATE` (r ≈ +0.13):** Los vehículos privados tienen más probabilidad de ser **aprobados**.  \n",
    "- **`Fuel_GASOLINA` (r ≈ +0.06):** Los vehículos a gasolina tienden ligeramente a aprobar más.  \n",
    "- **`Type_REMISSION` y `Type_STATION` (r ≈ +0.04):** correlaciones débiles pero positivas.\n",
    "\n",
    "---\n",
    "\n",
    "##### 2. Variables con correlación negativa (asociadas a desaprobación)\n",
    "- **`Vehicle age` (r ≈ -0.23):** La antigüedad es la variable más fuerte: a mayor edad, más probabilidad de **desaprobar**.  \n",
    "- **`Type_INDEPENDENT` (r ≈ -0.15):** Este tipo de vehículo se asocia a más desaprobación.  \n",
    "- **`Fuel_BI-GNV` (r ≈ -0.05) y `Fuel_DIESEL` (r ≈ -0.02):** leve tendencia a desaprobar.\n",
    "\n",
    "---\n",
    "\n",
    "##### 3. Variables neutras o con efecto muy bajo\n",
    "- **`Fuel_GLP`, `Fuel_GNV`, `Fuel_BI-GLP`:** correlaciones prácticamente nulas.\n",
    "\n",
    "---\n",
    "\n",
    "##### 📌 Conclusiones\n",
    "- La **edad del vehículo** es la variable más relevante (negativa con la aprobación).  \n",
    "- El **tipo de vehículo** también influye: los privados tienden a aprobar más, mientras que los independientes tienden a desaprobar.  \n",
    "- El **tipo de combustible** muestra un efecto menor, aunque destaca **gasolina (+)** y **diésel (−)**.  \n",
    "\n",
    "👉 Esto confirma que **Vehicle age + Vehicle type + Fuel type** son variables útiles para el modelo, aunque la más fuerte es claramente la **edad del vehículo**.\n"
   ]
  },
  {
   "cell_type": "code",
   "execution_count": null,
   "id": "c6c290b4-5d15-4282-914d-1b0d141b2ae5",
   "metadata": {},
   "outputs": [],
   "source": [
    "import matplotlib.pyplot as plt\n",
    "import seaborn as sns\n",
    "\n",
    "# Excluir la autocorrelación de State_i=1\n",
    "corr_with_target_plot = corr_with_target.drop('State_i')\n",
    "\n",
    "# Crear gráfico de barras ordenado\n",
    "plt.figure(figsize=(8,6))\n",
    "sns.barplot(x=corr_with_target_plot.values, y=corr_with_target_plot.index, palette=\"coolwarm\")\n",
    "plt.title(\"Correlación de variables con State_i (Approved=1)\")\n",
    "plt.xlabel(\"Coeficiente de correlación\")\n",
    "plt.ylabel(\"Variables\")\n",
    "plt.axvline(0, color='black', linestyle='--')\n",
    "plt.show()\n"
   ]
  },
  {
   "cell_type": "code",
   "execution_count": null,
   "id": "7eae2d23-5ed7-4c3c-9ea7-738c2f296361",
   "metadata": {},
   "outputs": [],
   "source": [
    "# fin del cuaderno ----*-----"
   ]
  },
  {
   "cell_type": "markdown",
   "id": "6cca9c53-035a-4906-8ebe-6afc65192440",
   "metadata": {},
   "source": [
    "#### Otras posibles transformaciones\n",
    "- Agrupar años de vehículo en rangos (ej. <2000, 2000–2010, >2010).  \n",
    "- Variables binarias: ¿tiene revisión técnica vigente?  \n",
    "- Crear indicadores basados en límites MPL vs. medición real. "
   ]
  },
  {
   "cell_type": "markdown",
   "id": "5e914dde-232e-45e2-8a32-66b3274a1efd",
   "metadata": {},
   "source": [
    "#### Reduccion.\n",
    "Aquí buscamos quedarnos con las variables más útiles, eliminando redundantes o irrelevantes, para que el modelo sea eficiente y evite ruido."
   ]
  },
  {
   "cell_type": "code",
   "execution_count": null,
   "id": "0968e7ee-ea57-4389-8a95-230970446877",
   "metadata": {},
   "outputs": [],
   "source": [
    "data"
   ]
  },
  {
   "cell_type": "code",
   "execution_count": null,
   "id": "84a6e181-1014-478e-a2a2-a54576f72c18",
   "metadata": {},
   "outputs": [],
   "source": [
    "# Frecuencias categóricas\n",
    "freq_vehicle_type = data['Vehicle type'].value_counts(normalize=True) * 100\n",
    "freq_vehicle_type.to_frame(\"percentage\")\n"
   ]
  },
  {
   "cell_type": "code",
   "execution_count": null,
   "id": "e6ad43f5-05b6-4cbe-841a-bb4cf95e81f4",
   "metadata": {},
   "outputs": [],
   "source": [
    "freq_fuel_type = data['Fuel type'].value_counts(normalize=True) * 100\n",
    "freq_fuel_type.to_frame(\"percentage\")"
   ]
  },
  {
   "cell_type": "code",
   "execution_count": null,
   "id": "76b53076-c7d0-4afe-9d5f-88b09e24ef74",
   "metadata": {},
   "outputs": [],
   "source": []
  },
  {
   "cell_type": "code",
   "execution_count": null,
   "id": "1861a1f3-4792-4e6d-a13c-943a82924eef",
   "metadata": {},
   "outputs": [],
   "source": [
    "# Guardar dataset limpio sin transformar, revisar lo que conviene\n",
    "data.to_csv(\"data_clean.csv\", index=False)\n",
    "print(\"Dataset limpio guardado como data_clean.csv\")\n",
    "\n",
    "data_encoded.to_csv(\"data_encoded_clean.csv\", index=False)\n",
    "print(\"Dataset limpio + transformado guardado como data_encoded_clean.csv\")\n"
   ]
  },
  {
   "cell_type": "markdown",
   "id": "06ffb3e5-e21e-4823-acbb-e9f9538f58c3",
   "metadata": {},
   "source": [
    "### ✅  6. Data validation (Sesión 4)"
   ]
  },
  {
   "cell_type": "markdown",
   "id": "1e284416-e35b-4931-bb4c-d5f940103343",
   "metadata": {},
   "source": [
    "Aquí buscamos quedarnos con las variables más útiles, eliminando redundantes o irrelevantes, para que el modelo sea eficiente y evite ruido."
   ]
  },
  {
   "cell_type": "code",
   "execution_count": null,
   "id": "2d4a97d2-b558-47c4-b627-8fcf1bf8d941",
   "metadata": {},
   "outputs": [],
   "source": [
    "df = pd.read_csv(\"data_clean.csv\")\n",
    "df.head()"
   ]
  },
  {
   "cell_type": "code",
   "execution_count": null,
   "id": "9ff4013f-d46a-4d90-9329-2bdee528efe9",
   "metadata": {},
   "outputs": [],
   "source": [
    "data_encoded = pd.read_csv(\"data_encoded_clean.csv\")\n",
    "data_encoded.head()"
   ]
  },
  {
   "cell_type": "code",
   "execution_count": null,
   "id": "0ccc09a7-bc01-4ec7-b0fa-0a24e9cff331",
   "metadata": {},
   "outputs": [],
   "source": [
    "# Seleccionar columnas transformadas\n",
    "cols_show = ['State_i', 'Vehicle_age_scaled'] + \\\n",
    "             [col for col in data_encoded.columns if col.startswith('Type_') or col.startswith('Fuel_')]\n",
    "\n",
    "data_encoded[cols_show].head()"
   ]
  },
  {
   "cell_type": "code",
   "execution_count": null,
   "id": "0c8f34f4-726b-46c1-a115-8af920d4d9bd",
   "metadata": {},
   "outputs": [],
   "source": [
    "import seaborn as sns, matplotlib.pyplot as plt\n",
    "corr = data_encoded[cols_show].corr()\n",
    "plt.figure(figsize=(12,8))\n",
    "\n",
    "sns.heatmap(corr, annot=True, cmap=\"coolwarm\", center=0)\n",
    "plt.title(\"Matriz de correlación post-limpieza\")\n",
    "\n",
    "plt.show()\n"
   ]
  },
  {
   "cell_type": "code",
   "execution_count": null,
   "id": "231ebdad-d0fd-443f-a036-856dab5b5600",
   "metadata": {},
   "outputs": [],
   "source": [
    "corr[\"State_i\"].sort_values(ascending=False)\n"
   ]
  },
  {
   "cell_type": "markdown",
   "id": "5727259f-171c-4123-9321-e6f8c4f6a0a6",
   "metadata": {},
   "source": [
    "#####  Selección final de variables"
   ]
  },
  {
   "cell_type": "code",
   "execution_count": null,
   "id": "6c9843a3-5d5b-4364-ae9d-4effba53face",
   "metadata": {},
   "outputs": [],
   "source": [
    "# Ejemplo: eliminar variables con baja correlación con el target (<0.05) o redundantes (>0.9 entre sí)\n",
    "data_f=data_encoded\n",
    "to_drop = [col for col in data_f[cols_show].columns if col not in [\"State_i\"] and abs(data_f[col].corr(data_f[\"State_i\"])) < 0.05]\n",
    "df_final = data_f[cols_show].drop(columns=to_drop)\n",
    "\n",
    "print(\"Variables eliminadas:\", to_drop)\n",
    "print(\"Dimensiones finales:\", df_final.shape)"
   ]
  },
  {
   "cell_type": "code",
   "execution_count": null,
   "id": "eabd0669-c330-454a-a781-50c522f81c76",
   "metadata": {},
   "outputs": [],
   "source": [
    "df_final"
   ]
  },
  {
   "cell_type": "code",
   "execution_count": null,
   "id": "0529aba0-2c4c-49b5-8db1-281967e18813",
   "metadata": {},
   "outputs": [],
   "source": [
    "df_final.to_csv(\"data_encoded_clean_final.csv\", index=False)\n",
    "print(\"Dataset limpio + transformado guardado como data_encoded_clean_final.csv\")"
   ]
  },
  {
   "cell_type": "markdown",
   "id": "a1561631-52d3-4aa1-a5a9-a6edc4e634a9",
   "metadata": {},
   "source": [
    "### Guía autónoma de la sesión 4"
   ]
  },
  {
   "cell_type": "markdown",
   "id": "ee6a61e8-4eb1-4f88-8167-aac416a49f3c",
   "metadata": {},
   "source": [
    "cada equipo aplica exactamente el mismo flujo a su dataset del proyecto grupal."
   ]
  },
  {
   "cell_type": "markdown",
   "id": "e05d8c23-a439-470a-afa3-4c7a113909c1",
   "metadata": {},
   "source": [
    "#### 📦 Entregables Sesión 4\n",
    "1. Este notebook o cuaderno .ipynb pero con tus datos.\n",
    "2. Dataset limpio + transformado en .csv.\n",
    "3. Github:https://github.com/mindatos/respiralimpio (reemplaza aquí por tu url)\n",
    "4. Coloca aquí el resumen de decisiones.\n"
   ]
  },
  {
   "cell_type": "code",
   "execution_count": null,
   "id": "45e240d9-94f0-4109-bda2-c81d8999e6cb",
   "metadata": {},
   "outputs": [],
   "source": []
  }
 ],
 "metadata": {
  "kernelspec": {
   "display_name": "Python 3 (ipykernel)",
   "language": "python",
   "name": "python3"
  },
  "language_info": {
   "codemirror_mode": {
    "name": "ipython",
    "version": 3
   },
   "file_extension": ".py",
   "mimetype": "text/x-python",
   "name": "python",
   "nbconvert_exporter": "python",
   "pygments_lexer": "ipython3",
   "version": "3.12.7"
  }
 },
 "nbformat": 4,
 "nbformat_minor": 5
}
